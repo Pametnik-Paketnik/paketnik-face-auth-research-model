{
 "cells": [
  {
   "cell_type": "markdown",
   "id": "34bed3cf-b6a1-429d-88a0-47ad1e3f43de",
   "metadata": {},
   "source": [
    "## Import libraries"
   ]
  },
  {
   "cell_type": "code",
   "execution_count": 2,
   "id": "ab66bb7d-aea5-4543-bc8c-fd46d00b55a8",
   "metadata": {},
   "outputs": [],
   "source": [
    "import cv2\n",
    "import os\n",
    "import shutil\n",
    "import mediapipe as mp\n",
    "import numpy as np # Za np.zeros_like, če bi bil potrebno\n",
    "from tqdm import tqdm"
   ]
  },
  {
   "cell_type": "code",
   "execution_count": 3,
   "id": "bbb5a66a-f775-40ae-bd47-e0e6bced50f4",
   "metadata": {},
   "outputs": [
    {
     "name": "stdout",
     "output_type": "stream",
     "text": [
      "Num GPUs Available:  1\n",
      "[PhysicalDevice(name='/physical_device:GPU:0', device_type='GPU')]\n"
     ]
    }
   ],
   "source": [
    "import tensorflow as tf\n",
    "print(\"Num GPUs Available: \", len(tf.config.experimental.list_physical_devices('GPU')))\n",
    "# Ali še bolj specifično za Metal:\n",
    "print(tf.config.list_physical_devices('GPU'))"
   ]
  },
  {
   "cell_type": "code",
   "execution_count": 4,
   "id": "0cc90afc-4154-4ec8-bb10-bb20e24af6c5",
   "metadata": {},
   "outputs": [
    {
     "name": "stdout",
     "output_type": "stream",
     "text": [
      "MediaPipe verzija: 0.10.21\n",
      "OpenCV verzija: 4.11.0\n"
     ]
    }
   ],
   "source": [
    "print(f\"MediaPipe verzija: {mp.__version__}\")\n",
    "print(f\"OpenCV verzija: {cv2.__version__}\")"
   ]
  },
  {
   "cell_type": "code",
   "execution_count": 5,
   "id": "f20816b2-e50f-4c5f-a1f4-5e02a2c1a3b4",
   "metadata": {},
   "outputs": [
    {
     "name": "stderr",
     "output_type": "stream",
     "text": [
      "WARNING: All log messages before absl::InitializeLog() is called are written to STDERR\n",
      "I0000 00:00:1748726596.415888 7030604 gl_context.cc:369] GL version: 2.1 (2.1 Metal - 89.4), renderer: Apple M4 Pro\n",
      "INFO: Created TensorFlow Lite XNNPACK delegate for CPU.\n"
     ]
    }
   ],
   "source": [
    "# Model_selection=1 je za zaznavanje obrazov na razdalji (celotni obraz), bolj robustno\n",
    "# min_detection_confidence=0.7 pomeni, da je potrebna visoka zanesljivost za zaznavo\n",
    "mp_face_detection = mp.solutions.face_detection\n",
    "face_detection = mp_face_detection.FaceDetection(model_selection=1, min_detection_confidence=0.7)"
   ]
  },
  {
   "cell_type": "code",
   "execution_count": 6,
   "id": "e460c344-6058-420a-ac28-cc98b21e5614",
   "metadata": {},
   "outputs": [],
   "source": [
    "# --- Parametri ---\n",
    "TARGET_IMG_SIZE = (224, 224) # Željena velikost izrezanih obrazov\n",
    "MARGIN_FACTOR = 1         # Faktor za razširitev izrezanega okvirja obraza (1.0 = samo obraz)"
   ]
  },
  {
   "cell_type": "code",
   "execution_count": 7,
   "id": "58ade04a-fdfc-4721-bacb-11cfcb29f519",
   "metadata": {},
   "outputs": [],
   "source": [
    "# Pot do mape, kjer so shranjene podmape z LFW slikami (npr. 'Aaron_Eckhart/', 'Abel_Pacheco/')\n",
    "# PREVERI TO POT NA SVOJEM SISTEMU!\n",
    "# Glede na tvoj tree diagram, je verjetno to:\n",
    "INPUT_LFW_RAW_FOLDER = '../data/raw/Ifw-dataset/lfw-deepfunneled/lfw-deepfunneled'\n",
    "\n",
    "# Pot do mape, kamor bomo shranili obdelane \"false data\" obraze\n",
    "OUTPUT_PROCESSED_FALSE_DATA_FOLDER = '../data/processed/false_data'"
   ]
  },
  {
   "cell_type": "code",
   "execution_count": 8,
   "id": "22f61343-aba6-4c2d-9092-11955d7fd3ee",
   "metadata": {},
   "outputs": [],
   "source": [
    "# --- Funkcija za izrezovanje in prilagoditev obraza ---\n",
    "def crop_face_only(image, detection, target_size=TARGET_IMG_SIZE, margin_factor=MARGIN_FACTOR):\n",
    "    h, w, _ = image.shape\n",
    "    location_data = detection.location_data\n",
    "    relative_bounding_box = location_data.relative_bounding_box\n",
    "\n",
    "    # Izračun absolutnih koordinat okvirja\n",
    "    xmin = int(relative_bounding_box.xmin * w)\n",
    "    ymin = int(relative_bounding_box.ymin * h)\n",
    "    box_width = int(relative_bounding_box.width * w)\n",
    "    box_height = int(relative_bounding_box.height * h)\n",
    "\n",
    "    xmax = xmin + box_width\n",
    "    ymax = ymin + box_height\n",
    "\n",
    "    # Izračun centra okvirja\n",
    "    center_x = (xmin + xmax) / 2\n",
    "    center_y = (ymin + ymax) / 2\n",
    "\n",
    "    # Določitev največje dimenzije in dodajanje marže\n",
    "    max_dim = max(box_width, box_height) * margin_factor\n",
    "    \n",
    "    # Izračun novih koordinat izrezanega okvirja z maržo\n",
    "    x1 = int(center_x - max_dim / 2)\n",
    "    y1 = int(center_y - max_dim / 2)\n",
    "    x2 = int(center_x + max_dim / 2)\n",
    "    y2 = int(center_y + max_dim / 2)\n",
    "\n",
    "    # Poskrbimo, da okvir ne preseže meja slike\n",
    "    x1 = max(0, x1)\n",
    "    y1 = max(0, y1)\n",
    "    x2 = min(w, x2)\n",
    "    y2 = min(h, y2)\n",
    "\n",
    "    # Izrezovanje obraza\n",
    "    cropped_face = image[y1:y2, x1:x2]\n",
    "    \n",
    "    # Preverimo, če je izrezan obraz prazen (lahko se zgodi, če so koordinate napačne)\n",
    "    if cropped_face.shape[0] == 0 or cropped_face.shape[1] == 0:\n",
    "        return None\n",
    "\n",
    "    # Sprememba velikosti izrezanega obraza na ciljno velikost\n",
    "    final_face = cv2.resize(cropped_face, target_size, interpolation=cv2.INTER_AREA)\n",
    "    return final_face"
   ]
  },
  {
   "cell_type": "code",
   "execution_count": 9,
   "id": "cffc60e3-bbfb-4208-b438-3c1955fadf14",
   "metadata": {},
   "outputs": [
    {
     "name": "stdout",
     "output_type": "stream",
     "text": [
      "Izhodna mapa '../data/processed/false_data' že obstaja. Brišem jo in ustvarjam novo.\n"
     ]
    },
    {
     "name": "stderr",
     "output_type": "stream",
     "text": [
      "W0000 00:00:1748726596.429555 7035991 inference_feedback_manager.cc:114] Feedback manager requires a model with a single signature inference. Disabling support for feedback tensors.\n"
     ]
    },
    {
     "name": "stdout",
     "output_type": "stream",
     "text": [
      "Začenjam z obdelavo LFW slik iz: ../data/raw/Ifw-dataset/lfw-deepfunneled/lfw-deepfunneled\n"
     ]
    }
   ],
   "source": [
    "# --- Priprava izhodne mape ---\n",
    "# Preverimo, ali izhodna mapa že obstaja, in jo po potrebi izbrišemo/ustvarimo\n",
    "if os.path.exists(OUTPUT_PROCESSED_FALSE_DATA_FOLDER):\n",
    "    print(f\"Izhodna mapa '{OUTPUT_PROCESSED_FALSE_DATA_FOLDER}' že obstaja. Brišem jo in ustvarjam novo.\")\n",
    "    shutil.rmtree(OUTPUT_PROCESSED_FALSE_DATA_FOLDER)\n",
    "os.makedirs(OUTPUT_PROCESSED_FALSE_DATA_FOLDER, exist_ok=True)\n",
    "\n",
    "# --- Glavni proces obdelave LFW slik ---\n",
    "total_processed_faces = 0\n",
    "total_images_skipped = 0\n",
    "\n",
    "print(f\"Začenjam z obdelavo LFW slik iz: {INPUT_LFW_RAW_FOLDER}\")"
   ]
  },
  {
   "cell_type": "code",
   "execution_count": 10,
   "id": "fe687dfd-dbf9-4452-9c8d-c910390645c4",
   "metadata": {},
   "outputs": [
    {
     "name": "stderr",
     "output_type": "stream",
     "text": [
      "Obdelava LFW obrazov: 100%|███████████████████████████████████████████████████████████████████████████████| 5749/5749 [00:17<00:00, 336.87it/s]"
     ]
    },
    {
     "name": "stdout",
     "output_type": "stream",
     "text": [
      "\n",
      "Končana obdelava LFW dataset-a. Skupaj obdelanih in shranjenih 5651 obrazov v: ../data/processed/false_data\n",
      "Skupaj preskočenih slik (napake pri nalaganju/zaznavi/obrezovanju): 141\n"
     ]
    },
    {
     "name": "stderr",
     "output_type": "stream",
     "text": [
      "\n"
     ]
    }
   ],
   "source": [
    "# Pridobi seznam vseh map oseb v LFW\n",
    "person_folders = [f for f in os.listdir(INPUT_LFW_RAW_FOLDER) if os.path.isdir(os.path.join(INPUT_LFW_RAW_FOLDER, f))]\n",
    "\n",
    "# Zanka skozi osebe z uporabo tqdm za progress bar\n",
    "# Desc je opis, ki se prikaže ob progress baru\n",
    "with tqdm(total=len(person_folders), desc=\"Obdelava LFW obrazov\") as pbar:\n",
    "    for person_folder_name in person_folders:\n",
    "        person_folder_path = os.path.join(INPUT_LFW_RAW_FOLDER, person_folder_name)\n",
    "\n",
    "        face_processed_for_this_person = False\n",
    "\n",
    "        image_files_in_folder = [f for f in os.listdir(person_folder_path) if f.lower().endswith(('.jpg', '.jpeg', '.png'))]\n",
    "        image_files_in_folder.sort()\n",
    "\n",
    "        for image_name in image_files_in_folder:\n",
    "            if face_processed_for_this_person:\n",
    "                break\n",
    "\n",
    "            image_path = os.path.join(person_folder_path, image_name)\n",
    "\n",
    "            image_bgr = cv2.imread(image_path)\n",
    "\n",
    "            if image_bgr is None:\n",
    "                # Opozorila ne izpisujemo za vsako sliko, da ne spamamo konsolo.\n",
    "                # Štejemo samo, da je bila preskočena.\n",
    "                total_images_skipped += 1\n",
    "                continue\n",
    "\n",
    "            image_rgb = cv2.cvtColor(image_bgr, cv2.COLOR_BGR2RGB)\n",
    "\n",
    "            results = face_detection.process(image_rgb)\n",
    "\n",
    "            if results.detections:\n",
    "                processed_face_rgb = crop_face_only(image_rgb, results.detections[0], target_size=TARGET_IMG_SIZE)\n",
    "\n",
    "                if processed_face_rgb is None:\n",
    "                    total_images_skipped += 1\n",
    "                    continue\n",
    "\n",
    "                processed_face_bgr = cv2.cvtColor(processed_face_rgb, cv2.COLOR_RGB2BGR)\n",
    "\n",
    "                unique_filename = f\"{person_folder_name}.jpg\"\n",
    "                output_path = os.path.join(OUTPUT_PROCESSED_FALSE_DATA_FOLDER, unique_filename)\n",
    "\n",
    "                cv2.imwrite(output_path, processed_face_bgr)\n",
    "                total_processed_faces += 1\n",
    "                face_processed_for_this_person = True\n",
    "            else:\n",
    "                total_images_skipped += 1\n",
    "                \n",
    "        # Po obdelavi vsake osebe posodobimo progress bar\n",
    "        pbar.update(1)\n",
    "        \n",
    "        # Opozorilo za osebe, ki niso bile obdelane, prikažemo samo ob koncu, če jih je veliko\n",
    "        # ali se poskusimo izogniti preveč izpisom, saj tqdm že kaže napredek\n",
    "        # Lahko pa pustiš tudi ta izpis, če želiš videti takojšnje opozorilo\n",
    "        # if not face_processed_for_this_person:\n",
    "        #     print(f\"Opozorilo: Za osebo '{person_folder_name}' ni bilo mogoče obdelati nobene slike.\")\n",
    "\n",
    "\n",
    "print(f\"\\nKončana obdelava LFW dataset-a. Skupaj obdelanih in shranjenih {total_processed_faces} obrazov v: {OUTPUT_PROCESSED_FALSE_DATA_FOLDER}\")\n",
    "print(f\"Skupaj preskočenih slik (napake pri nalaganju/zaznavi/obrezovanju): {total_images_skipped}\")\n",
    "\n",
    "face_detection.close()"
   ]
  }
 ],
 "metadata": {
  "kernelspec": {
   "display_name": "Python 3 (ipykernel)",
   "language": "python",
   "name": "python3"
  },
  "language_info": {
   "codemirror_mode": {
    "name": "ipython",
    "version": 3
   },
   "file_extension": ".py",
   "mimetype": "text/x-python",
   "name": "python",
   "nbconvert_exporter": "python",
   "pygments_lexer": "ipython3",
   "version": "3.10.12"
  }
 },
 "nbformat": 4,
 "nbformat_minor": 5
}
