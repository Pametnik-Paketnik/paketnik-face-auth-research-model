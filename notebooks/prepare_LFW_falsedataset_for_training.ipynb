{
 "cells": [
  {
   "cell_type": "markdown",
   "id": "34bed3cf-b6a1-429d-88a0-47ad1e3f43de",
   "metadata": {},
   "source": [
    "## Import libraries"
   ]
  },
  {
   "cell_type": "code",
   "execution_count": 7,
   "id": "ab66bb7d-aea5-4543-bc8c-fd46d00b55a8",
   "metadata": {},
   "outputs": [],
   "source": [
    "import cv2\n",
    "import os\n",
    "import shutil\n",
    "import mediapipe as mp\n",
    "import numpy as np # Za np.zeros_like, če bi bil potrebno"
   ]
  },
  {
   "cell_type": "code",
   "execution_count": 8,
   "id": "bbb5a66a-f775-40ae-bd47-e0e6bced50f4",
   "metadata": {},
   "outputs": [
    {
     "name": "stdout",
     "output_type": "stream",
     "text": [
      "Num GPUs Available:  1\n",
      "[PhysicalDevice(name='/physical_device:GPU:0', device_type='GPU')]\n"
     ]
    }
   ],
   "source": [
    "import tensorflow as tf\n",
    "print(\"Num GPUs Available: \", len(tf.config.experimental.list_physical_devices('GPU')))\n",
    "# Ali še bolj specifično za Metal:\n",
    "print(tf.config.list_physical_devices('GPU'))"
   ]
  },
  {
   "cell_type": "code",
   "execution_count": 9,
   "id": "0cc90afc-4154-4ec8-bb10-bb20e24af6c5",
   "metadata": {},
   "outputs": [
    {
     "name": "stdout",
     "output_type": "stream",
     "text": [
      "MediaPipe verzija: 0.10.11\n",
      "OpenCV verzija: 4.11.0\n"
     ]
    }
   ],
   "source": [
    "print(f\"MediaPipe verzija: {mp.__version__}\")\n",
    "print(f\"OpenCV verzija: {cv2.__version__}\")"
   ]
  },
  {
   "cell_type": "code",
   "execution_count": 10,
   "id": "f20816b2-e50f-4c5f-a1f4-5e02a2c1a3b4",
   "metadata": {},
   "outputs": [
    {
     "name": "stderr",
     "output_type": "stream",
     "text": [
      "I0000 00:00:1748524363.691369 4697103 gl_context.cc:357] GL version: 2.1 (2.1 Metal - 89.4), renderer: Apple M4 Pro\n"
     ]
    }
   ],
   "source": [
    "# Model_selection=1 je za zaznavanje obrazov na razdalji (celotni obraz), bolj robustno\n",
    "# min_detection_confidence=0.7 pomeni, da je potrebna visoka zanesljivost za zaznavo\n",
    "mp_face_detection = mp.solutions.face_detection\n",
    "face_detection = mp_face_detection.FaceDetection(model_selection=1, min_detection_confidence=0.7)"
   ]
  },
  {
   "cell_type": "code",
   "execution_count": 11,
   "id": "e460c344-6058-420a-ac28-cc98b21e5614",
   "metadata": {},
   "outputs": [],
   "source": [
    "# --- Parametri ---\n",
    "TARGET_IMG_SIZE = (224, 224) # Željena velikost izrezanih obrazov\n",
    "MARGIN_FACTOR = 1.5         # Faktor za razširitev izrezanega okvirja obraza (1.0 = samo obraz)"
   ]
  },
  {
   "cell_type": "code",
   "execution_count": 12,
   "id": "58ade04a-fdfc-4721-bacb-11cfcb29f519",
   "metadata": {},
   "outputs": [],
   "source": [
    "# Pot do mape, kjer so shranjene podmape z LFW slikami (npr. 'Aaron_Eckhart/', 'Abel_Pacheco/')\n",
    "# PREVERI TO POT NA SVOJEM SISTEMU!\n",
    "# Glede na tvoj tree diagram, je verjetno to:\n",
    "INPUT_LFW_RAW_FOLDER = '../data/raw/Ifw-dataset/lfw-deepfunneled/lfw-deepfunneled'\n",
    "\n",
    "# Pot do mape, kamor bomo shranili obdelane \"false data\" obraze\n",
    "OUTPUT_PROCESSED_FALSE_DATA_FOLDER = '../data/processed/false_data'"
   ]
  },
  {
   "cell_type": "code",
   "execution_count": 13,
   "id": "22f61343-aba6-4c2d-9092-11955d7fd3ee",
   "metadata": {},
   "outputs": [],
   "source": [
    "# --- Funkcija za izrezovanje in prilagoditev obraza ---\n",
    "def crop_face_only(image, detection, target_size=TARGET_IMG_SIZE, margin_factor=MARGIN_FACTOR):\n",
    "    h, w, _ = image.shape\n",
    "    location_data = detection.location_data\n",
    "    relative_bounding_box = location_data.relative_bounding_box\n",
    "\n",
    "    # Izračun absolutnih koordinat okvirja\n",
    "    xmin = int(relative_bounding_box.xmin * w)\n",
    "    ymin = int(relative_bounding_box.ymin * h)\n",
    "    box_width = int(relative_bounding_box.width * w)\n",
    "    box_height = int(relative_bounding_box.height * h)\n",
    "\n",
    "    xmax = xmin + box_width\n",
    "    ymax = ymin + box_height\n",
    "\n",
    "    # Izračun centra okvirja\n",
    "    center_x = (xmin + xmax) / 2\n",
    "    center_y = (ymin + ymax) / 2\n",
    "\n",
    "    # Določitev največje dimenzije in dodajanje marže\n",
    "    max_dim = max(box_width, box_height) * margin_factor\n",
    "    \n",
    "    # Izračun novih koordinat izrezanega okvirja z maržo\n",
    "    x1 = int(center_x - max_dim / 2)\n",
    "    y1 = int(center_y - max_dim / 2)\n",
    "    x2 = int(center_x + max_dim / 2)\n",
    "    y2 = int(center_y + max_dim / 2)\n",
    "\n",
    "    # Poskrbimo, da okvir ne preseže meja slike\n",
    "    x1 = max(0, x1)\n",
    "    y1 = max(0, y1)\n",
    "    x2 = min(w, x2)\n",
    "    y2 = min(h, y2)\n",
    "\n",
    "    # Izrezovanje obraza\n",
    "    cropped_face = image[y1:y2, x1:x2]\n",
    "    \n",
    "    # Preverimo, če je izrezan obraz prazen (lahko se zgodi, če so koordinate napačne)\n",
    "    if cropped_face.shape[0] == 0 or cropped_face.shape[1] == 0:\n",
    "        return None\n",
    "\n",
    "    # Sprememba velikosti izrezanega obraza na ciljno velikost\n",
    "    final_face = cv2.resize(cropped_face, target_size, interpolation=cv2.INTER_AREA)\n",
    "    return final_face"
   ]
  },
  {
   "cell_type": "code",
   "execution_count": 14,
   "id": "cffc60e3-bbfb-4208-b438-3c1955fadf14",
   "metadata": {},
   "outputs": [
    {
     "name": "stdout",
     "output_type": "stream",
     "text": [
      "Izhodna mapa '../data/processed/false_data' že obstaja. Brišem jo in ustvarjam novo.\n",
      "Začenjam z obdelavo LFW slik iz: ../data/raw/Ifw-dataset/lfw-deepfunneled/lfw-deepfunneled\n"
     ]
    }
   ],
   "source": [
    "# --- Priprava izhodne mape ---\n",
    "# Preverimo, ali izhodna mapa že obstaja, in jo po potrebi izbrišemo/ustvarimo\n",
    "if os.path.exists(OUTPUT_PROCESSED_FALSE_DATA_FOLDER):\n",
    "    print(f\"Izhodna mapa '{OUTPUT_PROCESSED_FALSE_DATA_FOLDER}' že obstaja. Brišem jo in ustvarjam novo.\")\n",
    "    shutil.rmtree(OUTPUT_PROCESSED_FALSE_DATA_FOLDER)\n",
    "os.makedirs(OUTPUT_PROCESSED_FALSE_DATA_FOLDER, exist_ok=True)\n",
    "\n",
    "# --- Glavni proces obdelave LFW slik ---\n",
    "total_processed_faces = 0\n",
    "total_images_skipped = 0\n",
    "\n",
    "print(f\"Začenjam z obdelavo LFW slik iz: {INPUT_LFW_RAW_FOLDER}\")"
   ]
  },
  {
   "cell_type": "code",
   "execution_count": null,
   "id": "fe687dfd-dbf9-4452-9c8d-c910390645c4",
   "metadata": {},
   "outputs": [
    {
     "name": "stdout",
     "output_type": "stream",
     "text": [
      "Opozorilo: Obraz ni zaznan v sliki: ../data/raw/Ifw-dataset/lfw-deepfunneled/lfw-deepfunneled/Mohammad_Fares/Mohammad_Fares_0001.jpg. Preskakujem.\n",
      "Opozorilo: Obraz ni zaznan v sliki: ../data/raw/Ifw-dataset/lfw-deepfunneled/lfw-deepfunneled/Ziwang_Xu/Ziwang_Xu_0001.jpg. Preskakujem.\n",
      "Opozorilo: Obraz ni zaznan v sliki: ../data/raw/Ifw-dataset/lfw-deepfunneled/lfw-deepfunneled/David_Wells/David_Wells_0003.jpg. Preskakujem.\n",
      "Opozorilo: Obraz ni zaznan v sliki: ../data/raw/Ifw-dataset/lfw-deepfunneled/lfw-deepfunneled/Joseph_Biden/Joseph_Biden_0001.jpg. Preskakujem.\n",
      "Opozorilo: Obraz ni zaznan v sliki: ../data/raw/Ifw-dataset/lfw-deepfunneled/lfw-deepfunneled/Saoud_Al_Faisal/Saoud_Al_Faisal_0001.jpg. Preskakujem.\n",
      "Opozorilo: Obraz ni zaznan v sliki: ../data/raw/Ifw-dataset/lfw-deepfunneled/lfw-deepfunneled/Sebastian_Saja/Sebastian_Saja_0003.jpg. Preskakujem.\n",
      "Opozorilo: Obraz ni zaznan v sliki: ../data/raw/Ifw-dataset/lfw-deepfunneled/lfw-deepfunneled/Fazal-ur-Rehman/Fazal-ur-Rehman_0001.jpg. Preskakujem.\n",
      "Opozorilo: Obraz ni zaznan v sliki: ../data/raw/Ifw-dataset/lfw-deepfunneled/lfw-deepfunneled/Robert_Ehrlich/Robert_Ehrlich_0002.jpg. Preskakujem.\n",
      "Opozorilo: Obraz ni zaznan v sliki: ../data/raw/Ifw-dataset/lfw-deepfunneled/lfw-deepfunneled/Bob_Huggins/Bob_Huggins_0003.jpg. Preskakujem.\n",
      "Opozorilo: Obraz ni zaznan v sliki: ../data/raw/Ifw-dataset/lfw-deepfunneled/lfw-deepfunneled/Henry_Hilow/Henry_Hilow_0001.jpg. Preskakujem.\n",
      "Opozorilo: Obraz ni zaznan v sliki: ../data/raw/Ifw-dataset/lfw-deepfunneled/lfw-deepfunneled/Eric_Hinske/Eric_Hinske_0001.jpg. Preskakujem.\n",
      "Opozorilo: Obraz ni zaznan v sliki: ../data/raw/Ifw-dataset/lfw-deepfunneled/lfw-deepfunneled/John_Paul_II/John_Paul_II_0004.jpg. Preskakujem.\n",
      "Opozorilo: Obraz ni zaznan v sliki: ../data/raw/Ifw-dataset/lfw-deepfunneled/lfw-deepfunneled/Ismail_Khan/Ismail_Khan_0001.jpg. Preskakujem.\n",
      "Opozorilo: Obraz ni zaznan v sliki: ../data/raw/Ifw-dataset/lfw-deepfunneled/lfw-deepfunneled/Ted_Maher/Ted_Maher_0002.jpg. Preskakujem.\n",
      "Opozorilo: Obraz ni zaznan v sliki: ../data/raw/Ifw-dataset/lfw-deepfunneled/lfw-deepfunneled/Felix_Mantilla/Felix_Mantilla_0001.jpg. Preskakujem.\n",
      "Opozorilo: Obraz ni zaznan v sliki: ../data/raw/Ifw-dataset/lfw-deepfunneled/lfw-deepfunneled/Padraig_Harrington/Padraig_Harrington_0003.jpg. Preskakujem.\n",
      "Opozorilo: Obraz ni zaznan v sliki: ../data/raw/Ifw-dataset/lfw-deepfunneled/lfw-deepfunneled/Padraig_Harrington/Padraig_Harrington_0004.jpg. Preskakujem.\n",
      "Opozorilo: Obraz ni zaznan v sliki: ../data/raw/Ifw-dataset/lfw-deepfunneled/lfw-deepfunneled/Allison_Searing/Allison_Searing_0001.jpg. Preskakujem.\n",
      "Opozorilo: Obraz ni zaznan v sliki: ../data/raw/Ifw-dataset/lfw-deepfunneled/lfw-deepfunneled/Sarah_Jessica_Parker/Sarah_Jessica_Parker_0003.jpg. Preskakujem.\n",
      "Opozorilo: Obraz ni zaznan v sliki: ../data/raw/Ifw-dataset/lfw-deepfunneled/lfw-deepfunneled/Fidel_Castro/Fidel_Castro_0010.jpg. Preskakujem.\n",
      "Opozorilo: Obraz ni zaznan v sliki: ../data/raw/Ifw-dataset/lfw-deepfunneled/lfw-deepfunneled/Fidel_Castro/Fidel_Castro_0009.jpg. Preskakujem.\n",
      "Opozorilo: Obraz ni zaznan v sliki: ../data/raw/Ifw-dataset/lfw-deepfunneled/lfw-deepfunneled/Tatiana_Shchegoleva/Tatiana_Shchegoleva_0001.jpg. Preskakujem.\n",
      "Opozorilo: Obraz ni zaznan v sliki: ../data/raw/Ifw-dataset/lfw-deepfunneled/lfw-deepfunneled/Luis_Horna/Luis_Horna_0002.jpg. Preskakujem.\n",
      "Opozorilo: Obraz ni zaznan v sliki: ../data/raw/Ifw-dataset/lfw-deepfunneled/lfw-deepfunneled/Tom_Daschle/Tom_Daschle_0021.jpg. Preskakujem.\n",
      "Opozorilo: Obraz ni zaznan v sliki: ../data/raw/Ifw-dataset/lfw-deepfunneled/lfw-deepfunneled/Tab_Baldwin/Tab_Baldwin_0001.jpg. Preskakujem.\n",
      "Opozorilo: Obraz ni zaznan v sliki: ../data/raw/Ifw-dataset/lfw-deepfunneled/lfw-deepfunneled/Bill_Frist/Bill_Frist_0005.jpg. Preskakujem.\n",
      "Opozorilo: Obraz ni zaznan v sliki: ../data/raw/Ifw-dataset/lfw-deepfunneled/lfw-deepfunneled/Alvaro_Uribe/Alvaro_Uribe_0013.jpg. Preskakujem.\n",
      "Opozorilo: Obraz ni zaznan v sliki: ../data/raw/Ifw-dataset/lfw-deepfunneled/lfw-deepfunneled/Petro_Symonenko/Petro_Symonenko_0002.jpg. Preskakujem.\n",
      "Opozorilo: Obraz ni zaznan v sliki: ../data/raw/Ifw-dataset/lfw-deepfunneled/lfw-deepfunneled/Will_Ofenheusle/Will_Ofenheusle_0001.jpg. Preskakujem.\n",
      "Opozorilo: Obraz ni zaznan v sliki: ../data/raw/Ifw-dataset/lfw-deepfunneled/lfw-deepfunneled/Stacey_Jones/Stacey_Jones_0001.jpg. Preskakujem.\n",
      "Opozorilo: Obraz ni zaznan v sliki: ../data/raw/Ifw-dataset/lfw-deepfunneled/lfw-deepfunneled/Julia_Tymoshenko/Julia_Tymoshenko_0001.jpg. Preskakujem.\n",
      "Opozorilo: Obraz ni zaznan v sliki: ../data/raw/Ifw-dataset/lfw-deepfunneled/lfw-deepfunneled/Eminem/Eminem_0001.jpg. Preskakujem.\n",
      "Opozorilo: Obraz ni zaznan v sliki: ../data/raw/Ifw-dataset/lfw-deepfunneled/lfw-deepfunneled/Jason_Mewes/Jason_Mewes_0001.jpg. Preskakujem.\n",
      "Opozorilo: Obraz ni zaznan v sliki: ../data/raw/Ifw-dataset/lfw-deepfunneled/lfw-deepfunneled/Luis_Rosario_Huertas/Luis_Rosario_Huertas_0001.jpg. Preskakujem.\n",
      "Opozorilo: Obraz ni zaznan v sliki: ../data/raw/Ifw-dataset/lfw-deepfunneled/lfw-deepfunneled/Marcos_Milinkovic/Marcos_Milinkovic_0001.jpg. Preskakujem.\n",
      "Opozorilo: Obraz ni zaznan v sliki: ../data/raw/Ifw-dataset/lfw-deepfunneled/lfw-deepfunneled/Gustavo_Noboa/Gustavo_Noboa_0001.jpg. Preskakujem.\n",
      "Opozorilo: Obraz ni zaznan v sliki: ../data/raw/Ifw-dataset/lfw-deepfunneled/lfw-deepfunneled/Javier_Weber/Javier_Weber_0002.jpg. Preskakujem.\n",
      "Opozorilo: Obraz ni zaznan v sliki: ../data/raw/Ifw-dataset/lfw-deepfunneled/lfw-deepfunneled/Richard_Myers/Richard_Myers_0013.jpg. Preskakujem.\n",
      "Opozorilo: Obraz ni zaznan v sliki: ../data/raw/Ifw-dataset/lfw-deepfunneled/lfw-deepfunneled/Richard_Myers/Richard_Myers_0003.jpg. Preskakujem.\n",
      "Opozorilo: Obraz ni zaznan v sliki: ../data/raw/Ifw-dataset/lfw-deepfunneled/lfw-deepfunneled/Lucio_Angulo/Lucio_Angulo_0001.jpg. Preskakujem.\n",
      "Opozorilo: Obraz ni zaznan v sliki: ../data/raw/Ifw-dataset/lfw-deepfunneled/lfw-deepfunneled/Liliana_Cavani/Liliana_Cavani_0001.jpg. Preskakujem.\n",
      "Opozorilo: Obraz ni zaznan v sliki: ../data/raw/Ifw-dataset/lfw-deepfunneled/lfw-deepfunneled/Bo_Ryan/Bo_Ryan_0001.jpg. Preskakujem.\n",
      "Opozorilo: Obraz ni zaznan v sliki: ../data/raw/Ifw-dataset/lfw-deepfunneled/lfw-deepfunneled/Ken_Dorsey/Ken_Dorsey_0001.jpg. Preskakujem.\n",
      "Opozorilo: Obraz ni zaznan v sliki: ../data/raw/Ifw-dataset/lfw-deepfunneled/lfw-deepfunneled/Eduardo_Duhalde/Eduardo_Duhalde_0007.jpg. Preskakujem.\n",
      "Opozorilo: Obraz ni zaznan v sliki: ../data/raw/Ifw-dataset/lfw-deepfunneled/lfw-deepfunneled/Eduardo_Duhalde/Eduardo_Duhalde_0006.jpg. Preskakujem.\n",
      "Opozorilo: Obraz ni zaznan v sliki: ../data/raw/Ifw-dataset/lfw-deepfunneled/lfw-deepfunneled/Tommy_Franks/Tommy_Franks_0014.jpg. Preskakujem.\n",
      "Opozorilo: Obraz ni zaznan v sliki: ../data/raw/Ifw-dataset/lfw-deepfunneled/lfw-deepfunneled/Teri_Files/Teri_Files_0001.jpg. Preskakujem.\n",
      "Opozorilo: Obraz ni zaznan v sliki: ../data/raw/Ifw-dataset/lfw-deepfunneled/lfw-deepfunneled/Billy_Graham/Billy_Graham_0001.jpg. Preskakujem.\n",
      "Opozorilo: Obraz ni zaznan v sliki: ../data/raw/Ifw-dataset/lfw-deepfunneled/lfw-deepfunneled/Bruce_Springsteen/Bruce_Springsteen_0001.jpg. Preskakujem.\n",
      "Opozorilo: Obraz ni zaznan v sliki: ../data/raw/Ifw-dataset/lfw-deepfunneled/lfw-deepfunneled/Farouk_al-Sharaa/Farouk_al-Sharaa_0002.jpg. Preskakujem.\n",
      "Opozorilo: Obraz ni zaznan v sliki: ../data/raw/Ifw-dataset/lfw-deepfunneled/lfw-deepfunneled/Raza_Rabbani/Raza_Rabbani_0001.jpg. Preskakujem.\n",
      "Opozorilo: Obraz ni zaznan v sliki: ../data/raw/Ifw-dataset/lfw-deepfunneled/lfw-deepfunneled/Glenn_Plummer/Glenn_Plummer_0001.jpg. Preskakujem.\n",
      "Opozorilo: Obraz ni zaznan v sliki: ../data/raw/Ifw-dataset/lfw-deepfunneled/lfw-deepfunneled/John_Hartson/John_Hartson_0001.jpg. Preskakujem.\n",
      "Opozorilo: Obraz ni zaznan v sliki: ../data/raw/Ifw-dataset/lfw-deepfunneled/lfw-deepfunneled/Jiang_Zemin/Jiang_Zemin_0017.jpg. Preskakujem.\n",
      "Opozorilo: Obraz ni zaznan v sliki: ../data/raw/Ifw-dataset/lfw-deepfunneled/lfw-deepfunneled/Tatiana_Gratcheva/Tatiana_Gratcheva_0001.jpg. Preskakujem.\n",
      "Opozorilo: Obraz ni zaznan v sliki: ../data/raw/Ifw-dataset/lfw-deepfunneled/lfw-deepfunneled/Muhammad_Saeed_al-Sahhaf/Muhammad_Saeed_al-Sahhaf_0003.jpg. Preskakujem.\n",
      "Opozorilo: Obraz ni zaznan v sliki: ../data/raw/Ifw-dataset/lfw-deepfunneled/lfw-deepfunneled/Gabi_Zimmer/Gabi_Zimmer_0001.jpg. Preskakujem.\n",
      "Opozorilo: Obraz ni zaznan v sliki: ../data/raw/Ifw-dataset/lfw-deepfunneled/lfw-deepfunneled/Danny_Green/Danny_Green_0001.jpg. Preskakujem.\n",
      "Opozorilo: Obraz ni zaznan v sliki: ../data/raw/Ifw-dataset/lfw-deepfunneled/lfw-deepfunneled/Eric_Robert_Rudolph/Eric_Robert_Rudolph_0001.jpg. Preskakujem.\n",
      "Opozorilo: Obraz ni zaznan v sliki: ../data/raw/Ifw-dataset/lfw-deepfunneled/lfw-deepfunneled/Elsa_Zylberstein/Elsa_Zylberstein_0003.jpg. Preskakujem.\n",
      "Opozorilo: Obraz ni zaznan v sliki: ../data/raw/Ifw-dataset/lfw-deepfunneled/lfw-deepfunneled/Cristina_Torrens_Valero/Cristina_Torrens_Valero_0001.jpg. Preskakujem.\n",
      "Opozorilo: Obraz ni zaznan v sliki: ../data/raw/Ifw-dataset/lfw-deepfunneled/lfw-deepfunneled/Carlos_Moya/Carlos_Moya_0002.jpg. Preskakujem.\n",
      "Opozorilo: Obraz ni zaznan v sliki: ../data/raw/Ifw-dataset/lfw-deepfunneled/lfw-deepfunneled/Joe_Dicaro/Joe_Dicaro_0001.jpg. Preskakujem.\n",
      "Opozorilo: Obraz ni zaznan v sliki: ../data/raw/Ifw-dataset/lfw-deepfunneled/lfw-deepfunneled/Steve_Pagliuca/Steve_Pagliuca_0001.jpg. Preskakujem.\n",
      "Opozorilo: Obraz ni zaznan v sliki: ../data/raw/Ifw-dataset/lfw-deepfunneled/lfw-deepfunneled/Jesse_Harris/Jesse_Harris_0002.jpg. Preskakujem.\n",
      "Opozorilo: Obraz ni zaznan v sliki: ../data/raw/Ifw-dataset/lfw-deepfunneled/lfw-deepfunneled/Steffi_Graf/Steffi_Graf_0001.jpg. Preskakujem.\n",
      "Opozorilo: Obraz ni zaznan v sliki: ../data/raw/Ifw-dataset/lfw-deepfunneled/lfw-deepfunneled/Danny_Ainge/Danny_Ainge_0001.jpg. Preskakujem.\n",
      "Opozorilo: Obraz ni zaznan v sliki: ../data/raw/Ifw-dataset/lfw-deepfunneled/lfw-deepfunneled/Steve_Lavin/Steve_Lavin_0006.jpg. Preskakujem.\n",
      "Opozorilo: Obraz ni zaznan v sliki: ../data/raw/Ifw-dataset/lfw-deepfunneled/lfw-deepfunneled/Jennifer_Lopez/Jennifer_Lopez_0004.jpg. Preskakujem.\n",
      "Opozorilo: Obraz ni zaznan v sliki: ../data/raw/Ifw-dataset/lfw-deepfunneled/lfw-deepfunneled/Tony_Blair/Tony_Blair_0100.jpg. Preskakujem.\n",
      "Opozorilo: Obraz ni zaznan v sliki: ../data/raw/Ifw-dataset/lfw-deepfunneled/lfw-deepfunneled/Tony_Blair/Tony_Blair_0144.jpg. Preskakujem.\n",
      "Opozorilo: Obraz ni zaznan v sliki: ../data/raw/Ifw-dataset/lfw-deepfunneled/lfw-deepfunneled/Kate_Capshaw/Kate_Capshaw_0002.jpg. Preskakujem.\n",
      "Opozorilo: Obraz ni zaznan v sliki: ../data/raw/Ifw-dataset/lfw-deepfunneled/lfw-deepfunneled/Muammar_Gaddafi/Muammar_Gaddafi_0001.jpg. Preskakujem.\n",
      "Opozorilo: Obraz ni zaznan v sliki: ../data/raw/Ifw-dataset/lfw-deepfunneled/lfw-deepfunneled/Jack_Straw/Jack_Straw_0004.jpg. Preskakujem.\n",
      "Opozorilo: Obraz ni zaznan v sliki: ../data/raw/Ifw-dataset/lfw-deepfunneled/lfw-deepfunneled/Pete_Sampras/Pete_Sampras_0015.jpg. Preskakujem.\n",
      "Opozorilo: Obraz ni zaznan v sliki: ../data/raw/Ifw-dataset/lfw-deepfunneled/lfw-deepfunneled/Tang_Jiaxuan/Tang_Jiaxuan_0007.jpg. Preskakujem.\n",
      "Opozorilo: Obraz ni zaznan v sliki: ../data/raw/Ifw-dataset/lfw-deepfunneled/lfw-deepfunneled/Steve_Nash/Steve_Nash_0004.jpg. Preskakujem.\n",
      "Opozorilo: Obraz ni zaznan v sliki: ../data/raw/Ifw-dataset/lfw-deepfunneled/lfw-deepfunneled/Mike_Samp/Mike_Samp_0001.jpg. Preskakujem.\n",
      "Opozorilo: Obraz ni zaznan v sliki: ../data/raw/Ifw-dataset/lfw-deepfunneled/lfw-deepfunneled/Amelie_Mauresmo/Amelie_Mauresmo_0011.jpg. Preskakujem.\n",
      "Opozorilo: Obraz ni zaznan v sliki: ../data/raw/Ifw-dataset/lfw-deepfunneled/lfw-deepfunneled/Dianne_Feinstein/Dianne_Feinstein_0003.jpg. Preskakujem.\n",
      "Opozorilo: Obraz ni zaznan v sliki: ../data/raw/Ifw-dataset/lfw-deepfunneled/lfw-deepfunneled/Brian_Heidik/Brian_Heidik_0001.jpg. Preskakujem.\n",
      "Opozorilo: Obraz ni zaznan v sliki: ../data/raw/Ifw-dataset/lfw-deepfunneled/lfw-deepfunneled/John_Howard/John_Howard_0017.jpg. Preskakujem.\n",
      "Opozorilo: Obraz ni zaznan v sliki: ../data/raw/Ifw-dataset/lfw-deepfunneled/lfw-deepfunneled/John_Howard/John_Howard_0006.jpg. Preskakujem.\n",
      "Opozorilo: Obraz ni zaznan v sliki: ../data/raw/Ifw-dataset/lfw-deepfunneled/lfw-deepfunneled/John_Howard/John_Howard_0011.jpg. Preskakujem.\n",
      "Opozorilo: Obraz ni zaznan v sliki: ../data/raw/Ifw-dataset/lfw-deepfunneled/lfw-deepfunneled/Nestor_Kirchner/Nestor_Kirchner_0024.jpg. Preskakujem.\n",
      "Opozorilo: Obraz ni zaznan v sliki: ../data/raw/Ifw-dataset/lfw-deepfunneled/lfw-deepfunneled/Nestor_Kirchner/Nestor_Kirchner_0014.jpg. Preskakujem.\n",
      "Opozorilo: Obraz ni zaznan v sliki: ../data/raw/Ifw-dataset/lfw-deepfunneled/lfw-deepfunneled/Jeff_Feldman/Jeff_Feldman_0001.jpg. Preskakujem.\n",
      "Opozorilo: Obraz ni zaznan v sliki: ../data/raw/Ifw-dataset/lfw-deepfunneled/lfw-deepfunneled/Chris_Klein/Chris_Klein_0001.jpg. Preskakujem.\n",
      "Opozorilo: Obraz ni zaznan v sliki: ../data/raw/Ifw-dataset/lfw-deepfunneled/lfw-deepfunneled/Yoon_Jeong_Cho/Yoon_Jeong_Cho_0001.jpg. Preskakujem.\n",
      "Opozorilo: Obraz ni zaznan v sliki: ../data/raw/Ifw-dataset/lfw-deepfunneled/lfw-deepfunneled/Robinson_Stevenin/Robinson_Stevenin_0001.jpg. Preskakujem.\n",
      "Opozorilo: Obraz ni zaznan v sliki: ../data/raw/Ifw-dataset/lfw-deepfunneled/lfw-deepfunneled/Klaus_Schwab/Klaus_Schwab_0001.jpg. Preskakujem.\n",
      "Opozorilo: Obraz ni zaznan v sliki: ../data/raw/Ifw-dataset/lfw-deepfunneled/lfw-deepfunneled/Tom_Cruise/Tom_Cruise_0008.jpg. Preskakujem.\n",
      "Opozorilo: Obraz ni zaznan v sliki: ../data/raw/Ifw-dataset/lfw-deepfunneled/lfw-deepfunneled/Peter_Mugyeni/Peter_Mugyeni_0001.jpg. Preskakujem.\n"
     ]
    }
   ],
   "source": [
    "# LFW ima podmape za vsako osebo (npr. 'Aaron_Eckhart/', 'Abel_Pacheco/')\n",
    "# Iteriramo skozi te podmape in nato skozi slike v vsaki podmapi\n",
    "for person_folder_name in os.listdir(INPUT_LFW_RAW_FOLDER):\n",
    "    person_folder_path = os.path.join(INPUT_LFW_RAW_FOLDER, person_folder_name)\n",
    "\n",
    "    # Preverimo, če je to res mapa\n",
    "    if os.path.isdir(person_folder_path):\n",
    "        for image_name in os.listdir(person_folder_path):\n",
    "            # Preverimo, če je to slika (če ima ustrezno končnico)\n",
    "            if image_name.lower().endswith(('.jpg', '.jpeg', '.png')):\n",
    "                image_path = os.path.join(person_folder_path, image_name)\n",
    "                \n",
    "                # Naloži sliko (OpenCV bere v BGR formatu)\n",
    "                image_bgr = cv2.imread(image_path)\n",
    "\n",
    "                if image_bgr is None:\n",
    "                    print(f\"Opozorilo: Slike ni mogoče naložiti: {image_path}. Preskakujem.\")\n",
    "                    total_images_skipped += 1\n",
    "                    continue\n",
    "\n",
    "                # Pretvori BGR v RGB, saj MediaPipe deluje z RGB\n",
    "                image_rgb = cv2.cvtColor(image_bgr, cv2.COLOR_BGR2RGB)\n",
    "\n",
    "                # Zaznavanje obraza z MediaPipe\n",
    "                results = face_detection.process(image_rgb)\n",
    "\n",
    "                if results.detections:\n",
    "                    # MediaPipe lahko zazna več obrazov. Za LFW se ponavadi predpostavlja 1 obraz na sliko.\n",
    "                    # Če jih je več, obdelamo samo prvega zaznanega.\n",
    "                    processed_face_rgb = crop_face_only(image_rgb, results.detections[0], target_size=TARGET_IMG_SIZE)\n",
    "                    \n",
    "                    if processed_face_rgb is None:\n",
    "                        print(f\"Opozorilo: Obraz v sliki {image_name} (oseba: {person_folder_name}) ni bil pravilno izrezan. Preskakujem.\")\n",
    "                        total_images_skipped += 1\n",
    "                        continue\n",
    "\n",
    "                    # Pretvori obdelan obraz nazaj v BGR za shranjevanje z OpenCV\n",
    "                    processed_face_bgr = cv2.cvtColor(processed_face_rgb, cv2.COLOR_RGB2BGR)\n",
    "\n",
    "                    # Ustvari unikatno ime datoteke za shranjevanje\n",
    "                    # Uporabimo ime osebe in originalno ime slike za edinstvenost\n",
    "                    unique_filename = f\"{person_folder_name}_{os.path.splitext(image_name)[0]}.jpg\"\n",
    "                    output_path = os.path.join(OUTPUT_PROCESSED_FALSE_DATA_FOLDER, unique_filename)\n",
    "                    \n",
    "                    cv2.imwrite(output_path, processed_face_bgr)\n",
    "                    total_processed_faces += 1\n",
    "                else:\n",
    "                    print(f\"Opozorilo: Obraz ni zaznan v sliki: {image_path}. Preskakujem.\")\n",
    "                    total_images_skipped += 1"
   ]
  },
  {
   "cell_type": "code",
   "execution_count": null,
   "id": "921acde9-25bb-4275-8cf3-921d27cb2080",
   "metadata": {},
   "outputs": [],
   "source": [
    "print(f\"\\n--- Postopek obdelave LFW zaključen ---\")\n",
    "print(f\"Skupno obdelanih in shranjenih obrazov: {total_processed_faces}\")\n",
    "print(f\"Skupno preskočenih slik (brez zaznanega obraza ali napake pri obdelavi): {total_images_skipped}\")\n",
    "\n",
    "# Zapri MediaPipe sejo\n",
    "face_detection.close()"
   ]
  }
 ],
 "metadata": {
  "kernelspec": {
   "display_name": "Python 3 (ipykernel)",
   "language": "python",
   "name": "python3"
  },
  "language_info": {
   "codemirror_mode": {
    "name": "ipython",
    "version": 3
   },
   "file_extension": ".py",
   "mimetype": "text/x-python",
   "name": "python",
   "nbconvert_exporter": "python",
   "pygments_lexer": "ipython3",
   "version": "3.10.12"
  }
 },
 "nbformat": 4,
 "nbformat_minor": 5
}
