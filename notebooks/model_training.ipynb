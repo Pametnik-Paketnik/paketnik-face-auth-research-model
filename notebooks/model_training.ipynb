{
 "cells": [
  {
   "cell_type": "markdown",
   "id": "eaf98f61-abef-4e25-b8c1-1ed3cc00400c",
   "metadata": {},
   "source": [
    "Importanje knjiznjic"
   ]
  },
  {
   "cell_type": "code",
   "execution_count": 14,
   "id": "1388bd9c-d1fd-4904-a4a9-d6c6c9724e6e",
   "metadata": {},
   "outputs": [
    {
     "name": "stdout",
     "output_type": "stream",
     "text": [
      "TensorFlow Version: 2.16.2\n",
      "Keras Version: 3.10.0\n",
      "Tf-keras Version: 2.16.0\n",
      "NumPy Version: 1.26.4\n",
      "Pandas Version: 2.2.3\n",
      "OpenCV Version: 4.11.0\n",
      "MediaPipe Version: 0.10.21\n",
      "Scikit-learn Version: 1.4.2\n",
      "Num GPUs Available: 1\n"
     ]
    }
   ],
   "source": [
    "import tensorflow as tf\n",
    "import keras as kr\n",
    "import tf_keras as tfk\n",
    "import numpy as np\n",
    "import pandas as pd\n",
    "import cv2\n",
    "import mediapipe as mp\n",
    "import sklearn\n",
    "\n",
    "# Check TensorFlow version and GPU availability\n",
    "print(f\"TensorFlow Version: {tf.__version__}\")\n",
    "print(f\"Keras Version: {kr.__version__}\")\n",
    "print(f\"Tf-keras Version: {tfk.__version__}\")\n",
    "print(f\"NumPy Version: {np.__version__}\")\n",
    "print(f\"Pandas Version: {pd.__version__}\")\n",
    "print(f\"OpenCV Version: {cv2.__version__}\")\n",
    "print(f\"MediaPipe Version: {mp.__version__}\")\n",
    "print(f\"Scikit-learn Version: {sklearn.__version__}\")\n",
    "print(f\"Num GPUs Available: {len(tf.config.list_physical_devices('GPU'))}\")"
   ]
  },
  {
   "cell_type": "code",
   "execution_count": 16,
   "id": "e5f68d74-1aea-4b1d-a19b-445106e24ea6",
   "metadata": {},
   "outputs": [
    {
     "name": "stdout",
     "output_type": "stream",
     "text": [
      "TensorFlow Hub Version: 0.16.1\n"
     ]
    }
   ],
   "source": [
    "import tensorflow_hub as hub\n",
    "\n",
    "print(f\"TensorFlow Hub Version: {hub.__version__}\")"
   ]
  },
  {
   "cell_type": "code",
   "execution_count": 17,
   "id": "c9a49b2a-ea00-43ee-b9b8-257703ff33b5",
   "metadata": {},
   "outputs": [],
   "source": [
    "# Zdaj lahko uporabljas hub.KerasLayer\n",
    "model_url = \"https://tfhub.dev/tensorflow/efficientnet/lite0/feature-vector/2\"\n",
    "base_model = hub.KerasLayer(model_url,\n",
    "                            input_shape=(224, 224, 3),\n",
    "                            trainable=False) # Trainable=False, kot smo se dogovorili za hitro treniranje na uporabnika\n",
    "\n",
    "# ... in gradis svoj Sequential model na vrhu base_modela."
   ]
  },
  {
   "cell_type": "code",
   "execution_count": null,
   "id": "09448c09-3f7d-486c-bdf1-81a36ea1ef01",
   "metadata": {},
   "outputs": [],
   "source": []
  }
 ],
 "metadata": {
  "kernelspec": {
   "display_name": "Python 3 (ipykernel)",
   "language": "python",
   "name": "python3"
  },
  "language_info": {
   "codemirror_mode": {
    "name": "ipython",
    "version": 3
   },
   "file_extension": ".py",
   "mimetype": "text/x-python",
   "name": "python",
   "nbconvert_exporter": "python",
   "pygments_lexer": "ipython3",
   "version": "3.10.12"
  }
 },
 "nbformat": 4,
 "nbformat_minor": 5
}
