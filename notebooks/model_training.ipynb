{
 "cells": [
  {
   "cell_type": "markdown",
   "id": "eaf98f61-abef-4e25-b8c1-1ed3cc00400c",
   "metadata": {},
   "source": [
    "Importanje knjiznjic"
   ]
  },
  {
   "cell_type": "code",
   "execution_count": 38,
   "id": "1388bd9c-d1fd-4904-a4a9-d6c6c9724e6e",
   "metadata": {},
   "outputs": [
    {
     "name": "stdout",
     "output_type": "stream",
     "text": [
      "TensorFlow Version: 2.16.2\n",
      "NumPy Version: 1.26.4\n",
      "Pandas Version: 2.2.3\n",
      "OpenCV Version: 4.11.0\n",
      "Num GPUs Available: 1\n"
     ]
    }
   ],
   "source": [
    "import os\n",
    "os.environ[\"KERAS_BACKEND\"] = \"tensorflow\"\n",
    "\n",
    "import tensorflow as tf\n",
    "import tensorflow_hub as hub\n",
    "import numpy as np\n",
    "import pandas as pd\n",
    "import cv2\n",
    "import matplotlib.pyplot as plt \n",
    "\n",
    "from tensorflow.keras.callbacks import EarlyStopping, ModelCheckpoint \n",
    "\n",
    "# Check TensorFlow version and GPU availability\n",
    "print(f\"TensorFlow Version: {tf.__version__}\")\n",
    "print(f\"NumPy Version: {np.__version__}\")\n",
    "print(f\"Pandas Version: {pd.__version__}\")\n",
    "print(f\"OpenCV Version: {cv2.__version__}\")\n",
    "print(f\"Num GPUs Available: {len(tf.config.list_physical_devices('GPU'))}\")"
   ]
  },
  {
   "cell_type": "code",
   "execution_count": 27,
   "id": "09448c09-3f7d-486c-bdf1-81a36ea1ef01",
   "metadata": {},
   "outputs": [],
   "source": [
    "# --- PARAMETRI ---\n",
    "IMG_SIZE = (224, 224) # Velikost slik za model\n",
    "NUM_CLASSES = 1       # 1 izhodni nevron za binarno klasifikacijo (sigmoid)\n",
    "BATCH_SIZE = 32       # Velikost serije za treniranje\n",
    "NUM_EPOCHS = 20       # Število epoh (začni z majhnim, EarlyStopping bo pomagal)"
   ]
  },
  {
   "cell_type": "code",
   "execution_count": 28,
   "id": "15e5df29-a546-4ed6-a76b-125d75e8a757",
   "metadata": {},
   "outputs": [],
   "source": [
    "# --- FUNKCIJA ZA NALAGANJE IN PREDPROCESIRANJE SLIK ---\n",
    "def load_and_preprocess_image(image_path, label):\n",
    "    # Pretvorimo pot v string (tf.string) in nato naložimo sliko\n",
    "    img = tf.io.read_file(image_path)\n",
    "    img = tf.image.decode_jpeg(img, channels=3) # Predpostavljamo JPEG, 3 kanali (RGB), dekodira v uint8 [0, 255]\n",
    "    img = tf.image.resize(img, IMG_SIZE) # Spremeni velikost na ciljno velikost\n",
    "    # NE pretvarjamo v float32 in [0,1] tukaj, pustimo [0, 255] za EfficientNetV2B0 in kasnejšo obdelavo za MobileNetV2\n",
    "    return img, label"
   ]
  },
  {
   "cell_type": "code",
   "execution_count": 29,
   "id": "d3c5951e-b4b6-4bfc-90a3-47b3b557b94e",
   "metadata": {},
   "outputs": [],
   "source": [
    "# --- NALAGANJE PODATKOV IZ CSV-jev ---\n",
    "# Poti do CSV datotek\n",
    "train_csv_path = '../data/splits/train_data.csv'\n",
    "val_csv_path = '../data/splits/val_data.csv'\n",
    "test_csv_path = '../data/splits/test_data.csv'\n",
    "\n",
    "# Preverimo, ali datoteke obstajajo\n",
    "import os\n",
    "if not os.path.exists(train_csv_path):\n",
    "    raise FileNotFoundError(f\"Datoteka '{train_csv_path}' ne obstaja. Preverite pot ali izvedite 04_prepare_dataset_for_training.ipynb.\")\n",
    "if not os.path.exists(val_csv_path):\n",
    "    raise FileNotFoundError(f\"Datoteka '{val_csv_path}' ne obstaja. Preverite pot ali izvedite 04_prepare_dataset_for_training.ipynb.\")\n",
    "if not os.path.exists(test_csv_path):\n",
    "    raise FileNotFoundError(f\"Datoteka '{test_csv_path}' ne obstaja. Preverite pot ali izvedite 04_prepare_dataset_for_training.ipynb.\")"
   ]
  },
  {
   "cell_type": "code",
   "execution_count": 30,
   "id": "d514dd3d-8e57-4141-bfe0-80c8aabf236b",
   "metadata": {},
   "outputs": [
    {
     "name": "stdout",
     "output_type": "stream",
     "text": [
      "\n",
      "Naloženi podatki:\n",
      "Učna množica: 784 slik\n",
      "Validacijska množica: 169 slik\n",
      "Testna množica: 169 slik\n"
     ]
    }
   ],
   "source": [
    "# Naloži DataFrames\n",
    "train_df = pd.read_csv(train_csv_path)\n",
    "val_df = pd.read_csv(val_csv_path)\n",
    "test_df = pd.read_csv(test_csv_path)\n",
    "\n",
    "print(f\"\\nNaloženi podatki:\")\n",
    "print(f\"Učna množica: {len(train_df)} slik\")\n",
    "print(f\"Validacijska množica: {len(val_df)} slik\")\n",
    "print(f\"Testna množica: {len(test_df)} slik\")"
   ]
  },
  {
   "cell_type": "markdown",
   "id": "e06b7d0a-257d-496a-ad83-792b3dc35c90",
   "metadata": {},
   "source": [
    "### --- PRIPRAVA TF.DATA.DATASET OBJEKTOV ---"
   ]
  },
  {
   "cell_type": "code",
   "execution_count": 31,
   "id": "8851a232-77b4-4d64-a32e-95fe6810a71f",
   "metadata": {},
   "outputs": [],
   "source": [
    "# Dataset za treniranje\n",
    "train_dataset = tf.data.Dataset.from_tensor_slices((train_df['image_path'].values, train_df['label'].values))\n",
    "train_dataset = train_dataset.map(load_and_preprocess_image, num_parallel_calls=tf.data.AUTOTUNE)\n",
    "train_dataset = train_dataset.shuffle(buffer_size=1000) # Premešaj podatke\n",
    "train_dataset = train_dataset.batch(BATCH_SIZE)\n",
    "train_dataset = train_dataset.prefetch(tf.data.AUTOTUNE) # Optimizacija nalaganja"
   ]
  },
  {
   "cell_type": "code",
   "execution_count": 32,
   "id": "9c79ce47-8124-4eb4-ab02-f8fb5b58dfb5",
   "metadata": {},
   "outputs": [],
   "source": [
    "# Dataset za validacijo\n",
    "val_dataset = tf.data.Dataset.from_tensor_slices((val_df['image_path'].values, val_df['label'].values))\n",
    "val_dataset = val_dataset.map(load_and_preprocess_image, num_parallel_calls=tf.data.AUTOTUNE)\n",
    "val_dataset = val_dataset.batch(BATCH_SIZE)\n",
    "val_dataset = val_dataset.prefetch(tf.data.AUTOTUNE)"
   ]
  },
  {
   "cell_type": "code",
   "execution_count": 33,
   "id": "24fbbc1f-52ae-4416-b161-059e6baeb25f",
   "metadata": {},
   "outputs": [],
   "source": [
    "# Dataset za testiranje\n",
    "test_dataset = tf.data.Dataset.from_tensor_slices((test_df['image_path'].values, test_df['label'].values))\n",
    "test_dataset = test_dataset.map(load_and_preprocess_image, num_parallel_calls=tf.data.AUTOTUNE)\n",
    "test_dataset = test_dataset.batch(BATCH_SIZE)\n",
    "test_dataset = test_dataset.prefetch(tf.data.AUTOTUNE)"
   ]
  },
  {
   "cell_type": "markdown",
   "id": "9bcf6de1-1ba7-4fbb-9894-58f0e2226b8d",
   "metadata": {},
   "source": [
    "### --- GRADNJA IN TREINIRANJE MODELA 1: MobileNetV2 ---"
   ]
  },
  {
   "cell_type": "code",
   "execution_count": 34,
   "id": "481f1f44-753a-4cc6-b000-5de1cb399510",
   "metadata": {},
   "outputs": [
    {
     "data": {
      "text/html": [
       "<pre style=\"white-space:pre;overflow-x:auto;line-height:normal;font-family:Menlo,'DejaVu Sans Mono',consolas,'Courier New',monospace\"><span style=\"font-weight: bold\">Model: \"MobileNetV2_Classifier\"</span>\n",
       "</pre>\n"
      ],
      "text/plain": [
       "\u001b[1mModel: \"MobileNetV2_Classifier\"\u001b[0m\n"
      ]
     },
     "metadata": {},
     "output_type": "display_data"
    },
    {
     "data": {
      "text/html": [
       "<pre style=\"white-space:pre;overflow-x:auto;line-height:normal;font-family:Menlo,'DejaVu Sans Mono',consolas,'Courier New',monospace\">┏━━━━━━━━━━━━━━━━━━━━━━━━━━━━━━━━━┳━━━━━━━━━━━━━━━━━━━━━━━━┳━━━━━━━━━━━━━━━┓\n",
       "┃<span style=\"font-weight: bold\"> Layer (type)                    </span>┃<span style=\"font-weight: bold\"> Output Shape           </span>┃<span style=\"font-weight: bold\">       Param # </span>┃\n",
       "┡━━━━━━━━━━━━━━━━━━━━━━━━━━━━━━━━━╇━━━━━━━━━━━━━━━━━━━━━━━━╇━━━━━━━━━━━━━━━┩\n",
       "│ input_layer_11 (<span style=\"color: #0087ff; text-decoration-color: #0087ff\">InputLayer</span>)     │ (<span style=\"color: #00d7ff; text-decoration-color: #00d7ff\">None</span>, <span style=\"color: #00af00; text-decoration-color: #00af00\">224</span>, <span style=\"color: #00af00; text-decoration-color: #00af00\">224</span>, <span style=\"color: #00af00; text-decoration-color: #00af00\">3</span>)    │             <span style=\"color: #00af00; text-decoration-color: #00af00\">0</span> │\n",
       "├─────────────────────────────────┼────────────────────────┼───────────────┤\n",
       "│ true_divide_1 (<span style=\"color: #0087ff; text-decoration-color: #0087ff\">TrueDivide</span>)      │ (<span style=\"color: #00d7ff; text-decoration-color: #00d7ff\">None</span>, <span style=\"color: #00af00; text-decoration-color: #00af00\">224</span>, <span style=\"color: #00af00; text-decoration-color: #00af00\">224</span>, <span style=\"color: #00af00; text-decoration-color: #00af00\">3</span>)    │             <span style=\"color: #00af00; text-decoration-color: #00af00\">0</span> │\n",
       "├─────────────────────────────────┼────────────────────────┼───────────────┤\n",
       "│ subtract_1 (<span style=\"color: #0087ff; text-decoration-color: #0087ff\">Subtract</span>)           │ (<span style=\"color: #00d7ff; text-decoration-color: #00d7ff\">None</span>, <span style=\"color: #00af00; text-decoration-color: #00af00\">224</span>, <span style=\"color: #00af00; text-decoration-color: #00af00\">224</span>, <span style=\"color: #00af00; text-decoration-color: #00af00\">3</span>)    │             <span style=\"color: #00af00; text-decoration-color: #00af00\">0</span> │\n",
       "├─────────────────────────────────┼────────────────────────┼───────────────┤\n",
       "│ mobilenetv2_1.00_224            │ (<span style=\"color: #00d7ff; text-decoration-color: #00d7ff\">None</span>, <span style=\"color: #00af00; text-decoration-color: #00af00\">7</span>, <span style=\"color: #00af00; text-decoration-color: #00af00\">7</span>, <span style=\"color: #00af00; text-decoration-color: #00af00\">1280</span>)     │     <span style=\"color: #00af00; text-decoration-color: #00af00\">2,257,984</span> │\n",
       "│ (<span style=\"color: #0087ff; text-decoration-color: #0087ff\">Functional</span>)                    │                        │               │\n",
       "├─────────────────────────────────┼────────────────────────┼───────────────┤\n",
       "│ global_average_pooling2d_4      │ (<span style=\"color: #00d7ff; text-decoration-color: #00d7ff\">None</span>, <span style=\"color: #00af00; text-decoration-color: #00af00\">1280</span>)           │             <span style=\"color: #00af00; text-decoration-color: #00af00\">0</span> │\n",
       "│ (<span style=\"color: #0087ff; text-decoration-color: #0087ff\">GlobalAveragePooling2D</span>)        │                        │               │\n",
       "├─────────────────────────────────┼────────────────────────┼───────────────┤\n",
       "│ dense_8 (<span style=\"color: #0087ff; text-decoration-color: #0087ff\">Dense</span>)                 │ (<span style=\"color: #00d7ff; text-decoration-color: #00d7ff\">None</span>, <span style=\"color: #00af00; text-decoration-color: #00af00\">128</span>)            │       <span style=\"color: #00af00; text-decoration-color: #00af00\">163,968</span> │\n",
       "├─────────────────────────────────┼────────────────────────┼───────────────┤\n",
       "│ dropout_4 (<span style=\"color: #0087ff; text-decoration-color: #0087ff\">Dropout</span>)             │ (<span style=\"color: #00d7ff; text-decoration-color: #00d7ff\">None</span>, <span style=\"color: #00af00; text-decoration-color: #00af00\">128</span>)            │             <span style=\"color: #00af00; text-decoration-color: #00af00\">0</span> │\n",
       "├─────────────────────────────────┼────────────────────────┼───────────────┤\n",
       "│ dense_9 (<span style=\"color: #0087ff; text-decoration-color: #0087ff\">Dense</span>)                 │ (<span style=\"color: #00d7ff; text-decoration-color: #00d7ff\">None</span>, <span style=\"color: #00af00; text-decoration-color: #00af00\">1</span>)              │           <span style=\"color: #00af00; text-decoration-color: #00af00\">129</span> │\n",
       "└─────────────────────────────────┴────────────────────────┴───────────────┘\n",
       "</pre>\n"
      ],
      "text/plain": [
       "┏━━━━━━━━━━━━━━━━━━━━━━━━━━━━━━━━━┳━━━━━━━━━━━━━━━━━━━━━━━━┳━━━━━━━━━━━━━━━┓\n",
       "┃\u001b[1m \u001b[0m\u001b[1mLayer (type)                   \u001b[0m\u001b[1m \u001b[0m┃\u001b[1m \u001b[0m\u001b[1mOutput Shape          \u001b[0m\u001b[1m \u001b[0m┃\u001b[1m \u001b[0m\u001b[1m      Param #\u001b[0m\u001b[1m \u001b[0m┃\n",
       "┡━━━━━━━━━━━━━━━━━━━━━━━━━━━━━━━━━╇━━━━━━━━━━━━━━━━━━━━━━━━╇━━━━━━━━━━━━━━━┩\n",
       "│ input_layer_11 (\u001b[38;5;33mInputLayer\u001b[0m)     │ (\u001b[38;5;45mNone\u001b[0m, \u001b[38;5;34m224\u001b[0m, \u001b[38;5;34m224\u001b[0m, \u001b[38;5;34m3\u001b[0m)    │             \u001b[38;5;34m0\u001b[0m │\n",
       "├─────────────────────────────────┼────────────────────────┼───────────────┤\n",
       "│ true_divide_1 (\u001b[38;5;33mTrueDivide\u001b[0m)      │ (\u001b[38;5;45mNone\u001b[0m, \u001b[38;5;34m224\u001b[0m, \u001b[38;5;34m224\u001b[0m, \u001b[38;5;34m3\u001b[0m)    │             \u001b[38;5;34m0\u001b[0m │\n",
       "├─────────────────────────────────┼────────────────────────┼───────────────┤\n",
       "│ subtract_1 (\u001b[38;5;33mSubtract\u001b[0m)           │ (\u001b[38;5;45mNone\u001b[0m, \u001b[38;5;34m224\u001b[0m, \u001b[38;5;34m224\u001b[0m, \u001b[38;5;34m3\u001b[0m)    │             \u001b[38;5;34m0\u001b[0m │\n",
       "├─────────────────────────────────┼────────────────────────┼───────────────┤\n",
       "│ mobilenetv2_1.00_224            │ (\u001b[38;5;45mNone\u001b[0m, \u001b[38;5;34m7\u001b[0m, \u001b[38;5;34m7\u001b[0m, \u001b[38;5;34m1280\u001b[0m)     │     \u001b[38;5;34m2,257,984\u001b[0m │\n",
       "│ (\u001b[38;5;33mFunctional\u001b[0m)                    │                        │               │\n",
       "├─────────────────────────────────┼────────────────────────┼───────────────┤\n",
       "│ global_average_pooling2d_4      │ (\u001b[38;5;45mNone\u001b[0m, \u001b[38;5;34m1280\u001b[0m)           │             \u001b[38;5;34m0\u001b[0m │\n",
       "│ (\u001b[38;5;33mGlobalAveragePooling2D\u001b[0m)        │                        │               │\n",
       "├─────────────────────────────────┼────────────────────────┼───────────────┤\n",
       "│ dense_8 (\u001b[38;5;33mDense\u001b[0m)                 │ (\u001b[38;5;45mNone\u001b[0m, \u001b[38;5;34m128\u001b[0m)            │       \u001b[38;5;34m163,968\u001b[0m │\n",
       "├─────────────────────────────────┼────────────────────────┼───────────────┤\n",
       "│ dropout_4 (\u001b[38;5;33mDropout\u001b[0m)             │ (\u001b[38;5;45mNone\u001b[0m, \u001b[38;5;34m128\u001b[0m)            │             \u001b[38;5;34m0\u001b[0m │\n",
       "├─────────────────────────────────┼────────────────────────┼───────────────┤\n",
       "│ dense_9 (\u001b[38;5;33mDense\u001b[0m)                 │ (\u001b[38;5;45mNone\u001b[0m, \u001b[38;5;34m1\u001b[0m)              │           \u001b[38;5;34m129\u001b[0m │\n",
       "└─────────────────────────────────┴────────────────────────┴───────────────┘\n"
      ]
     },
     "metadata": {},
     "output_type": "display_data"
    },
    {
     "data": {
      "text/html": [
       "<pre style=\"white-space:pre;overflow-x:auto;line-height:normal;font-family:Menlo,'DejaVu Sans Mono',consolas,'Courier New',monospace\"><span style=\"font-weight: bold\"> Total params: </span><span style=\"color: #00af00; text-decoration-color: #00af00\">2,422,081</span> (9.24 MB)\n",
       "</pre>\n"
      ],
      "text/plain": [
       "\u001b[1m Total params: \u001b[0m\u001b[38;5;34m2,422,081\u001b[0m (9.24 MB)\n"
      ]
     },
     "metadata": {},
     "output_type": "display_data"
    },
    {
     "data": {
      "text/html": [
       "<pre style=\"white-space:pre;overflow-x:auto;line-height:normal;font-family:Menlo,'DejaVu Sans Mono',consolas,'Courier New',monospace\"><span style=\"font-weight: bold\"> Trainable params: </span><span style=\"color: #00af00; text-decoration-color: #00af00\">164,097</span> (641.00 KB)\n",
       "</pre>\n"
      ],
      "text/plain": [
       "\u001b[1m Trainable params: \u001b[0m\u001b[38;5;34m164,097\u001b[0m (641.00 KB)\n"
      ]
     },
     "metadata": {},
     "output_type": "display_data"
    },
    {
     "data": {
      "text/html": [
       "<pre style=\"white-space:pre;overflow-x:auto;line-height:normal;font-family:Menlo,'DejaVu Sans Mono',consolas,'Courier New',monospace\"><span style=\"font-weight: bold\"> Non-trainable params: </span><span style=\"color: #00af00; text-decoration-color: #00af00\">2,257,984</span> (8.61 MB)\n",
       "</pre>\n"
      ],
      "text/plain": [
       "\u001b[1m Non-trainable params: \u001b[0m\u001b[38;5;34m2,257,984\u001b[0m (8.61 MB)\n"
      ]
     },
     "metadata": {},
     "output_type": "display_data"
    },
    {
     "name": "stdout",
     "output_type": "stream",
     "text": [
      "\n",
      "Začenjam treniranje MobileNetV2...\n",
      "Epoch 1/20\n",
      "\u001b[1m25/25\u001b[0m \u001b[32m━━━━━━━━━━━━━━━━━━━━\u001b[0m\u001b[37m\u001b[0m \u001b[1m7s\u001b[0m 144ms/step - accuracy: 0.8948 - loss: 0.2495 - val_accuracy: 1.0000 - val_loss: 0.0017\n",
      "Epoch 2/20\n",
      "\u001b[1m25/25\u001b[0m \u001b[32m━━━━━━━━━━━━━━━━━━━━\u001b[0m\u001b[37m\u001b[0m \u001b[1m1s\u001b[0m 57ms/step - accuracy: 1.0000 - loss: 0.0038 - val_accuracy: 1.0000 - val_loss: 9.4042e-04\n",
      "Epoch 3/20\n",
      "\u001b[1m25/25\u001b[0m \u001b[32m━━━━━━━━━━━━━━━━━━━━\u001b[0m\u001b[37m\u001b[0m \u001b[1m1s\u001b[0m 57ms/step - accuracy: 1.0000 - loss: 5.2080e-04 - val_accuracy: 1.0000 - val_loss: 7.0908e-04\n",
      "Epoch 4/20\n",
      "\u001b[1m25/25\u001b[0m \u001b[32m━━━━━━━━━━━━━━━━━━━━\u001b[0m\u001b[37m\u001b[0m \u001b[1m1s\u001b[0m 57ms/step - accuracy: 1.0000 - loss: 7.6719e-04 - val_accuracy: 1.0000 - val_loss: 3.1170e-04\n",
      "Epoch 5/20\n",
      "\u001b[1m25/25\u001b[0m \u001b[32m━━━━━━━━━━━━━━━━━━━━\u001b[0m\u001b[37m\u001b[0m \u001b[1m1s\u001b[0m 57ms/step - accuracy: 1.0000 - loss: 4.4316e-04 - val_accuracy: 1.0000 - val_loss: 2.6051e-04\n",
      "Epoch 6/20\n",
      "\u001b[1m25/25\u001b[0m \u001b[32m━━━━━━━━━━━━━━━━━━━━\u001b[0m\u001b[37m\u001b[0m \u001b[1m1s\u001b[0m 56ms/step - accuracy: 1.0000 - loss: 2.9927e-04 - val_accuracy: 1.0000 - val_loss: 1.7171e-04\n",
      "Epoch 7/20\n",
      "\u001b[1m25/25\u001b[0m \u001b[32m━━━━━━━━━━━━━━━━━━━━\u001b[0m\u001b[37m\u001b[0m \u001b[1m1s\u001b[0m 53ms/step - accuracy: 1.0000 - loss: 3.8358e-04 - val_accuracy: 1.0000 - val_loss: 2.2342e-04\n",
      "Epoch 8/20\n",
      "\u001b[1m25/25\u001b[0m \u001b[32m━━━━━━━━━━━━━━━━━━━━\u001b[0m\u001b[37m\u001b[0m \u001b[1m1s\u001b[0m 57ms/step - accuracy: 1.0000 - loss: 1.1279e-04 - val_accuracy: 1.0000 - val_loss: 1.5910e-04\n",
      "Epoch 9/20\n",
      "\u001b[1m25/25\u001b[0m \u001b[32m━━━━━━━━━━━━━━━━━━━━\u001b[0m\u001b[37m\u001b[0m \u001b[1m1s\u001b[0m 54ms/step - accuracy: 1.0000 - loss: 3.1986e-04 - val_accuracy: 1.0000 - val_loss: 1.6810e-04\n",
      "Epoch 10/20\n",
      "\u001b[1m25/25\u001b[0m \u001b[32m━━━━━━━━━━━━━━━━━━━━\u001b[0m\u001b[37m\u001b[0m \u001b[1m1s\u001b[0m 56ms/step - accuracy: 1.0000 - loss: 1.4457e-04 - val_accuracy: 1.0000 - val_loss: 1.1720e-04\n",
      "Epoch 11/20\n",
      "\u001b[1m25/25\u001b[0m \u001b[32m━━━━━━━━━━━━━━━━━━━━\u001b[0m\u001b[37m\u001b[0m \u001b[1m1s\u001b[0m 53ms/step - accuracy: 1.0000 - loss: 1.9458e-04 - val_accuracy: 1.0000 - val_loss: 1.9620e-04\n",
      "Epoch 12/20\n",
      "\u001b[1m25/25\u001b[0m \u001b[32m━━━━━━━━━━━━━━━━━━━━\u001b[0m\u001b[37m\u001b[0m \u001b[1m1s\u001b[0m 54ms/step - accuracy: 1.0000 - loss: 1.5736e-04 - val_accuracy: 1.0000 - val_loss: 1.2028e-04\n",
      "Epoch 13/20\n",
      "\u001b[1m25/25\u001b[0m \u001b[32m━━━━━━━━━━━━━━━━━━━━\u001b[0m\u001b[37m\u001b[0m \u001b[1m1s\u001b[0m 57ms/step - accuracy: 1.0000 - loss: 2.0481e-04 - val_accuracy: 1.0000 - val_loss: 9.4130e-05\n",
      "Epoch 14/20\n",
      "\u001b[1m25/25\u001b[0m \u001b[32m━━━━━━━━━━━━━━━━━━━━\u001b[0m\u001b[37m\u001b[0m \u001b[1m1s\u001b[0m 55ms/step - accuracy: 1.0000 - loss: 6.8284e-05 - val_accuracy: 1.0000 - val_loss: 1.2154e-04\n",
      "Epoch 15/20\n",
      "\u001b[1m25/25\u001b[0m \u001b[32m━━━━━━━━━━━━━━━━━━━━\u001b[0m\u001b[37m\u001b[0m \u001b[1m1s\u001b[0m 54ms/step - accuracy: 1.0000 - loss: 6.1037e-05 - val_accuracy: 1.0000 - val_loss: 1.2381e-04\n",
      "Epoch 16/20\n",
      "\u001b[1m25/25\u001b[0m \u001b[32m━━━━━━━━━━━━━━━━━━━━\u001b[0m\u001b[37m\u001b[0m \u001b[1m1s\u001b[0m 54ms/step - accuracy: 1.0000 - loss: 7.5119e-05 - val_accuracy: 1.0000 - val_loss: 1.3272e-04\n",
      "Epoch 17/20\n",
      "\u001b[1m25/25\u001b[0m \u001b[32m━━━━━━━━━━━━━━━━━━━━\u001b[0m\u001b[37m\u001b[0m \u001b[1m1s\u001b[0m 54ms/step - accuracy: 1.0000 - loss: 8.8845e-05 - val_accuracy: 1.0000 - val_loss: 1.0245e-04\n",
      "Epoch 18/20\n",
      "\u001b[1m25/25\u001b[0m \u001b[32m━━━━━━━━━━━━━━━━━━━━\u001b[0m\u001b[37m\u001b[0m \u001b[1m1s\u001b[0m 57ms/step - accuracy: 1.0000 - loss: 5.2221e-05 - val_accuracy: 1.0000 - val_loss: 8.9402e-05\n",
      "Epoch 19/20\n",
      "\u001b[1m25/25\u001b[0m \u001b[32m━━━━━━━━━━━━━━━━━━━━\u001b[0m\u001b[37m\u001b[0m \u001b[1m1s\u001b[0m 56ms/step - accuracy: 1.0000 - loss: 1.0432e-04 - val_accuracy: 1.0000 - val_loss: 6.5806e-05\n",
      "Epoch 20/20\n",
      "\u001b[1m25/25\u001b[0m \u001b[32m━━━━━━━━━━━━━━━━━━━━\u001b[0m\u001b[37m\u001b[0m \u001b[1m1s\u001b[0m 54ms/step - accuracy: 1.0000 - loss: 2.5279e-05 - val_accuracy: 1.0000 - val_loss: 6.6746e-05\n",
      "\n",
      "Treniranje MobileNetV2 zaključeno.\n"
     ]
    }
   ],
   "source": [
    "try:\n",
    "    # 1. Naložitev osnovnega modela (MobileNetV2)\n",
    "    # include_top=False: odstranimo klasifikacijsko glavo\n",
    "    # weights='imagenet': naložimo uteži naučene na ImageNetu\n",
    "    base_model_mobilenet = tf.keras.applications.MobileNetV2(\n",
    "        input_shape=IMG_SIZE + (3,),\n",
    "        include_top=False,\n",
    "        weights='imagenet'\n",
    "    )\n",
    "    base_model_mobilenet.trainable = False # Zamrznemo uteži osnovnega modela\n",
    "\n",
    "    # 2. Sestavljanje celotnega modela z Functional API\n",
    "    inputs_mobilenet = tf.keras.Input(shape=IMG_SIZE + (3,))\n",
    "\n",
    "    # DODATNO PREDPROCESIRANJE ZA MOBILENETV2 (skaliranje v [-1, 1])\n",
    "    x_mobilenet = tf.keras.applications.mobilenet_v2.preprocess_input(inputs_mobilenet)\n",
    "\n",
    "    x_mobilenet = base_model_mobilenet(x_mobilenet)\n",
    "    x_mobilenet = tf.keras.layers.GlobalAveragePooling2D()(x_mobilenet)\n",
    "    x_mobilenet = tf.keras.layers.Dense(128, activation='relu')(x_mobilenet)\n",
    "    x_mobilenet = tf.keras.layers.Dropout(0.2)(x_mobilenet)\n",
    "    outputs_mobilenet = tf.keras.layers.Dense(NUM_CLASSES, activation='sigmoid')(x_mobilenet)\n",
    "\n",
    "    model_mobilenet = tf.keras.Model(inputs=inputs_mobilenet, outputs=outputs_mobilenet, name=\"MobileNetV2_Classifier\")\n",
    "\n",
    "    # 3. Kompilacija modela\n",
    "    model_mobilenet.compile(optimizer='adam',\n",
    "                            loss='binary_crossentropy',\n",
    "                            metrics=['accuracy'])\n",
    "\n",
    "    model_mobilenet.summary()\n",
    "\n",
    "    # 4. Callbacki za treniranje\n",
    "    callbacks_mobilenet = [\n",
    "        EarlyStopping(monitor='val_loss', patience=5, restore_best_weights=True),\n",
    "        # ModelCheckpoint(filepath='best_mobilenet_model.keras', monitor='val_loss', save_best_only=True)\n",
    "    ]\n",
    "\n",
    "    # 5. Treniranje modela\n",
    "    print(\"\\nZačenjam treniranje MobileNetV2...\")\n",
    "    history_mobilenet = model_mobilenet.fit(\n",
    "        train_dataset,\n",
    "        epochs=NUM_EPOCHS,\n",
    "        validation_data=val_dataset,\n",
    "        callbacks=callbacks_mobilenet\n",
    "    )\n",
    "    print(\"\\nTreniranje MobileNetV2 zaključeno.\")\n",
    "\n",
    "except Exception as e:\n",
    "    print(f\"\\nPrišlo je do napake pri MobileNetV2: {e}\")\n",
    "    history_mobilenet = None # Zagotovimo, da history obstaja, tudi če pride do napake"
   ]
  },
  {
   "cell_type": "markdown",
   "id": "fc0ebc86-604d-4235-b402-8d5cb203f102",
   "metadata": {},
   "source": [
    "### --- GRADNJA IN TREINIRANJE MODELA 2: EfficientNetV2B0 ---"
   ]
  },
  {
   "cell_type": "code",
   "execution_count": 35,
   "id": "208fee12-a4a4-4d8c-b5f9-42c3396a1866",
   "metadata": {},
   "outputs": [
    {
     "name": "stdout",
     "output_type": "stream",
     "text": [
      "\n",
      "--- GRADNJA IN TREINIRANJE MODELA: EfficientNetV2B0 ---\n"
     ]
    },
    {
     "data": {
      "text/html": [
       "<pre style=\"white-space:pre;overflow-x:auto;line-height:normal;font-family:Menlo,'DejaVu Sans Mono',consolas,'Courier New',monospace\"><span style=\"font-weight: bold\">Model: \"EfficientNetV2B0_Classifier\"</span>\n",
       "</pre>\n"
      ],
      "text/plain": [
       "\u001b[1mModel: \"EfficientNetV2B0_Classifier\"\u001b[0m\n"
      ]
     },
     "metadata": {},
     "output_type": "display_data"
    },
    {
     "data": {
      "text/html": [
       "<pre style=\"white-space:pre;overflow-x:auto;line-height:normal;font-family:Menlo,'DejaVu Sans Mono',consolas,'Courier New',monospace\">┏━━━━━━━━━━━━━━━━━━━━━━━━━━━━━━━━━┳━━━━━━━━━━━━━━━━━━━━━━━━┳━━━━━━━━━━━━━━━┓\n",
       "┃<span style=\"font-weight: bold\"> Layer (type)                    </span>┃<span style=\"font-weight: bold\"> Output Shape           </span>┃<span style=\"font-weight: bold\">       Param # </span>┃\n",
       "┡━━━━━━━━━━━━━━━━━━━━━━━━━━━━━━━━━╇━━━━━━━━━━━━━━━━━━━━━━━━╇━━━━━━━━━━━━━━━┩\n",
       "│ input_layer_13 (<span style=\"color: #0087ff; text-decoration-color: #0087ff\">InputLayer</span>)     │ (<span style=\"color: #00d7ff; text-decoration-color: #00d7ff\">None</span>, <span style=\"color: #00af00; text-decoration-color: #00af00\">224</span>, <span style=\"color: #00af00; text-decoration-color: #00af00\">224</span>, <span style=\"color: #00af00; text-decoration-color: #00af00\">3</span>)    │             <span style=\"color: #00af00; text-decoration-color: #00af00\">0</span> │\n",
       "├─────────────────────────────────┼────────────────────────┼───────────────┤\n",
       "│ efficientnetv2-b0 (<span style=\"color: #0087ff; text-decoration-color: #0087ff\">Functional</span>)  │ (<span style=\"color: #00d7ff; text-decoration-color: #00d7ff\">None</span>, <span style=\"color: #00af00; text-decoration-color: #00af00\">7</span>, <span style=\"color: #00af00; text-decoration-color: #00af00\">7</span>, <span style=\"color: #00af00; text-decoration-color: #00af00\">1280</span>)     │     <span style=\"color: #00af00; text-decoration-color: #00af00\">5,919,312</span> │\n",
       "├─────────────────────────────────┼────────────────────────┼───────────────┤\n",
       "│ global_average_pooling2d_5      │ (<span style=\"color: #00d7ff; text-decoration-color: #00d7ff\">None</span>, <span style=\"color: #00af00; text-decoration-color: #00af00\">1280</span>)           │             <span style=\"color: #00af00; text-decoration-color: #00af00\">0</span> │\n",
       "│ (<span style=\"color: #0087ff; text-decoration-color: #0087ff\">GlobalAveragePooling2D</span>)        │                        │               │\n",
       "├─────────────────────────────────┼────────────────────────┼───────────────┤\n",
       "│ dense_10 (<span style=\"color: #0087ff; text-decoration-color: #0087ff\">Dense</span>)                │ (<span style=\"color: #00d7ff; text-decoration-color: #00d7ff\">None</span>, <span style=\"color: #00af00; text-decoration-color: #00af00\">128</span>)            │       <span style=\"color: #00af00; text-decoration-color: #00af00\">163,968</span> │\n",
       "├─────────────────────────────────┼────────────────────────┼───────────────┤\n",
       "│ dropout_5 (<span style=\"color: #0087ff; text-decoration-color: #0087ff\">Dropout</span>)             │ (<span style=\"color: #00d7ff; text-decoration-color: #00d7ff\">None</span>, <span style=\"color: #00af00; text-decoration-color: #00af00\">128</span>)            │             <span style=\"color: #00af00; text-decoration-color: #00af00\">0</span> │\n",
       "├─────────────────────────────────┼────────────────────────┼───────────────┤\n",
       "│ dense_11 (<span style=\"color: #0087ff; text-decoration-color: #0087ff\">Dense</span>)                │ (<span style=\"color: #00d7ff; text-decoration-color: #00d7ff\">None</span>, <span style=\"color: #00af00; text-decoration-color: #00af00\">1</span>)              │           <span style=\"color: #00af00; text-decoration-color: #00af00\">129</span> │\n",
       "└─────────────────────────────────┴────────────────────────┴───────────────┘\n",
       "</pre>\n"
      ],
      "text/plain": [
       "┏━━━━━━━━━━━━━━━━━━━━━━━━━━━━━━━━━┳━━━━━━━━━━━━━━━━━━━━━━━━┳━━━━━━━━━━━━━━━┓\n",
       "┃\u001b[1m \u001b[0m\u001b[1mLayer (type)                   \u001b[0m\u001b[1m \u001b[0m┃\u001b[1m \u001b[0m\u001b[1mOutput Shape          \u001b[0m\u001b[1m \u001b[0m┃\u001b[1m \u001b[0m\u001b[1m      Param #\u001b[0m\u001b[1m \u001b[0m┃\n",
       "┡━━━━━━━━━━━━━━━━━━━━━━━━━━━━━━━━━╇━━━━━━━━━━━━━━━━━━━━━━━━╇━━━━━━━━━━━━━━━┩\n",
       "│ input_layer_13 (\u001b[38;5;33mInputLayer\u001b[0m)     │ (\u001b[38;5;45mNone\u001b[0m, \u001b[38;5;34m224\u001b[0m, \u001b[38;5;34m224\u001b[0m, \u001b[38;5;34m3\u001b[0m)    │             \u001b[38;5;34m0\u001b[0m │\n",
       "├─────────────────────────────────┼────────────────────────┼───────────────┤\n",
       "│ efficientnetv2-b0 (\u001b[38;5;33mFunctional\u001b[0m)  │ (\u001b[38;5;45mNone\u001b[0m, \u001b[38;5;34m7\u001b[0m, \u001b[38;5;34m7\u001b[0m, \u001b[38;5;34m1280\u001b[0m)     │     \u001b[38;5;34m5,919,312\u001b[0m │\n",
       "├─────────────────────────────────┼────────────────────────┼───────────────┤\n",
       "│ global_average_pooling2d_5      │ (\u001b[38;5;45mNone\u001b[0m, \u001b[38;5;34m1280\u001b[0m)           │             \u001b[38;5;34m0\u001b[0m │\n",
       "│ (\u001b[38;5;33mGlobalAveragePooling2D\u001b[0m)        │                        │               │\n",
       "├─────────────────────────────────┼────────────────────────┼───────────────┤\n",
       "│ dense_10 (\u001b[38;5;33mDense\u001b[0m)                │ (\u001b[38;5;45mNone\u001b[0m, \u001b[38;5;34m128\u001b[0m)            │       \u001b[38;5;34m163,968\u001b[0m │\n",
       "├─────────────────────────────────┼────────────────────────┼───────────────┤\n",
       "│ dropout_5 (\u001b[38;5;33mDropout\u001b[0m)             │ (\u001b[38;5;45mNone\u001b[0m, \u001b[38;5;34m128\u001b[0m)            │             \u001b[38;5;34m0\u001b[0m │\n",
       "├─────────────────────────────────┼────────────────────────┼───────────────┤\n",
       "│ dense_11 (\u001b[38;5;33mDense\u001b[0m)                │ (\u001b[38;5;45mNone\u001b[0m, \u001b[38;5;34m1\u001b[0m)              │           \u001b[38;5;34m129\u001b[0m │\n",
       "└─────────────────────────────────┴────────────────────────┴───────────────┘\n"
      ]
     },
     "metadata": {},
     "output_type": "display_data"
    },
    {
     "data": {
      "text/html": [
       "<pre style=\"white-space:pre;overflow-x:auto;line-height:normal;font-family:Menlo,'DejaVu Sans Mono',consolas,'Courier New',monospace\"><span style=\"font-weight: bold\"> Total params: </span><span style=\"color: #00af00; text-decoration-color: #00af00\">6,083,409</span> (23.21 MB)\n",
       "</pre>\n"
      ],
      "text/plain": [
       "\u001b[1m Total params: \u001b[0m\u001b[38;5;34m6,083,409\u001b[0m (23.21 MB)\n"
      ]
     },
     "metadata": {},
     "output_type": "display_data"
    },
    {
     "data": {
      "text/html": [
       "<pre style=\"white-space:pre;overflow-x:auto;line-height:normal;font-family:Menlo,'DejaVu Sans Mono',consolas,'Courier New',monospace\"><span style=\"font-weight: bold\"> Trainable params: </span><span style=\"color: #00af00; text-decoration-color: #00af00\">164,097</span> (641.00 KB)\n",
       "</pre>\n"
      ],
      "text/plain": [
       "\u001b[1m Trainable params: \u001b[0m\u001b[38;5;34m164,097\u001b[0m (641.00 KB)\n"
      ]
     },
     "metadata": {},
     "output_type": "display_data"
    },
    {
     "data": {
      "text/html": [
       "<pre style=\"white-space:pre;overflow-x:auto;line-height:normal;font-family:Menlo,'DejaVu Sans Mono',consolas,'Courier New',monospace\"><span style=\"font-weight: bold\"> Non-trainable params: </span><span style=\"color: #00af00; text-decoration-color: #00af00\">5,919,312</span> (22.58 MB)\n",
       "</pre>\n"
      ],
      "text/plain": [
       "\u001b[1m Non-trainable params: \u001b[0m\u001b[38;5;34m5,919,312\u001b[0m (22.58 MB)\n"
      ]
     },
     "metadata": {},
     "output_type": "display_data"
    },
    {
     "name": "stdout",
     "output_type": "stream",
     "text": [
      "\n",
      "Začenjam treniranje EfficientNetV2B0...\n",
      "Epoch 1/20\n",
      "\u001b[1m25/25\u001b[0m \u001b[32m━━━━━━━━━━━━━━━━━━━━\u001b[0m\u001b[37m\u001b[0m \u001b[1m10s\u001b[0m 214ms/step - accuracy: 0.8620 - loss: 0.2364 - val_accuracy: 1.0000 - val_loss: 0.0018\n",
      "Epoch 2/20\n",
      "\u001b[1m25/25\u001b[0m \u001b[32m━━━━━━━━━━━━━━━━━━━━\u001b[0m\u001b[37m\u001b[0m \u001b[1m2s\u001b[0m 64ms/step - accuracy: 0.9976 - loss: 0.0067 - val_accuracy: 1.0000 - val_loss: 3.2172e-04\n",
      "Epoch 3/20\n",
      "\u001b[1m25/25\u001b[0m \u001b[32m━━━━━━━━━━━━━━━━━━━━\u001b[0m\u001b[37m\u001b[0m \u001b[1m2s\u001b[0m 65ms/step - accuracy: 1.0000 - loss: 0.0010 - val_accuracy: 1.0000 - val_loss: 2.5336e-04\n",
      "Epoch 4/20\n",
      "\u001b[1m25/25\u001b[0m \u001b[32m━━━━━━━━━━━━━━━━━━━━\u001b[0m\u001b[37m\u001b[0m \u001b[1m2s\u001b[0m 65ms/step - accuracy: 1.0000 - loss: 6.8770e-04 - val_accuracy: 1.0000 - val_loss: 1.9051e-04\n",
      "Epoch 5/20\n",
      "\u001b[1m25/25\u001b[0m \u001b[32m━━━━━━━━━━━━━━━━━━━━\u001b[0m\u001b[37m\u001b[0m \u001b[1m2s\u001b[0m 62ms/step - accuracy: 1.0000 - loss: 9.4167e-04 - val_accuracy: 1.0000 - val_loss: 1.7169e-04\n",
      "Epoch 6/20\n",
      "\u001b[1m25/25\u001b[0m \u001b[32m━━━━━━━━━━━━━━━━━━━━\u001b[0m\u001b[37m\u001b[0m \u001b[1m2s\u001b[0m 63ms/step - accuracy: 1.0000 - loss: 3.9001e-04 - val_accuracy: 1.0000 - val_loss: 1.4703e-04\n",
      "Epoch 7/20\n",
      "\u001b[1m25/25\u001b[0m \u001b[32m━━━━━━━━━━━━━━━━━━━━\u001b[0m\u001b[37m\u001b[0m \u001b[1m2s\u001b[0m 62ms/step - accuracy: 1.0000 - loss: 4.3732e-04 - val_accuracy: 1.0000 - val_loss: 1.3415e-04\n",
      "Epoch 8/20\n",
      "\u001b[1m25/25\u001b[0m \u001b[32m━━━━━━━━━━━━━━━━━━━━\u001b[0m\u001b[37m\u001b[0m \u001b[1m2s\u001b[0m 64ms/step - accuracy: 1.0000 - loss: 5.7934e-04 - val_accuracy: 1.0000 - val_loss: 9.4625e-05\n",
      "Epoch 9/20\n",
      "\u001b[1m25/25\u001b[0m \u001b[32m━━━━━━━━━━━━━━━━━━━━\u001b[0m\u001b[37m\u001b[0m \u001b[1m2s\u001b[0m 62ms/step - accuracy: 1.0000 - loss: 4.9251e-04 - val_accuracy: 1.0000 - val_loss: 7.7195e-05\n",
      "Epoch 10/20\n",
      "\u001b[1m25/25\u001b[0m \u001b[32m━━━━━━━━━━━━━━━━━━━━\u001b[0m\u001b[37m\u001b[0m \u001b[1m2s\u001b[0m 63ms/step - accuracy: 1.0000 - loss: 1.9871e-04 - val_accuracy: 1.0000 - val_loss: 7.1305e-05\n",
      "Epoch 11/20\n",
      "\u001b[1m25/25\u001b[0m \u001b[32m━━━━━━━━━━━━━━━━━━━━\u001b[0m\u001b[37m\u001b[0m \u001b[1m2s\u001b[0m 62ms/step - accuracy: 1.0000 - loss: 2.0330e-04 - val_accuracy: 1.0000 - val_loss: 6.6226e-05\n",
      "Epoch 12/20\n",
      "\u001b[1m25/25\u001b[0m \u001b[32m━━━━━━━━━━━━━━━━━━━━\u001b[0m\u001b[37m\u001b[0m \u001b[1m2s\u001b[0m 62ms/step - accuracy: 1.0000 - loss: 1.9924e-04 - val_accuracy: 1.0000 - val_loss: 5.6886e-05\n",
      "Epoch 13/20\n",
      "\u001b[1m25/25\u001b[0m \u001b[32m━━━━━━━━━━━━━━━━━━━━\u001b[0m\u001b[37m\u001b[0m \u001b[1m2s\u001b[0m 62ms/step - accuracy: 1.0000 - loss: 3.9425e-04 - val_accuracy: 1.0000 - val_loss: 5.1497e-05\n",
      "Epoch 14/20\n",
      "\u001b[1m25/25\u001b[0m \u001b[32m━━━━━━━━━━━━━━━━━━━━\u001b[0m\u001b[37m\u001b[0m \u001b[1m2s\u001b[0m 62ms/step - accuracy: 1.0000 - loss: 2.1902e-04 - val_accuracy: 1.0000 - val_loss: 4.4457e-05\n",
      "Epoch 15/20\n",
      "\u001b[1m25/25\u001b[0m \u001b[32m━━━━━━━━━━━━━━━━━━━━\u001b[0m\u001b[37m\u001b[0m \u001b[1m1s\u001b[0m 58ms/step - accuracy: 1.0000 - loss: 1.3757e-04 - val_accuracy: 1.0000 - val_loss: 4.7844e-05\n",
      "Epoch 16/20\n",
      "\u001b[1m25/25\u001b[0m \u001b[32m━━━━━━━━━━━━━━━━━━━━\u001b[0m\u001b[37m\u001b[0m \u001b[1m2s\u001b[0m 63ms/step - accuracy: 1.0000 - loss: 1.2310e-04 - val_accuracy: 1.0000 - val_loss: 4.4338e-05\n",
      "Epoch 17/20\n",
      "\u001b[1m25/25\u001b[0m \u001b[32m━━━━━━━━━━━━━━━━━━━━\u001b[0m\u001b[37m\u001b[0m \u001b[1m2s\u001b[0m 63ms/step - accuracy: 1.0000 - loss: 8.9200e-05 - val_accuracy: 1.0000 - val_loss: 4.0881e-05\n",
      "Epoch 18/20\n",
      "\u001b[1m25/25\u001b[0m \u001b[32m━━━━━━━━━━━━━━━━━━━━\u001b[0m\u001b[37m\u001b[0m \u001b[1m2s\u001b[0m 63ms/step - accuracy: 1.0000 - loss: 9.8487e-05 - val_accuracy: 1.0000 - val_loss: 4.0043e-05\n",
      "Epoch 19/20\n",
      "\u001b[1m25/25\u001b[0m \u001b[32m━━━━━━━━━━━━━━━━━━━━\u001b[0m\u001b[37m\u001b[0m \u001b[1m2s\u001b[0m 63ms/step - accuracy: 1.0000 - loss: 1.3502e-04 - val_accuracy: 1.0000 - val_loss: 3.7804e-05\n",
      "Epoch 20/20\n",
      "\u001b[1m25/25\u001b[0m \u001b[32m━━━━━━━━━━━━━━━━━━━━\u001b[0m\u001b[37m\u001b[0m \u001b[1m2s\u001b[0m 63ms/step - accuracy: 1.0000 - loss: 1.3331e-04 - val_accuracy: 1.0000 - val_loss: 2.7862e-05\n",
      "\n",
      "Treniranje EfficientNetV2B0 zaključeno.\n"
     ]
    }
   ],
   "source": [
    "print(\"\\n--- GRADNJA IN TREINIRANJE MODELA: EfficientNetV2B0 ---\")\n",
    "\n",
    "try:\n",
    "    # 1. Naložitev osnovnega modela (EfficientNetV2B0)\n",
    "    # include_preprocessing=True (privzeto) pomeni, da model sam obdela [0, 255] vhode\n",
    "    base_model_efficientnet = tf.keras.applications.EfficientNetV2B0(\n",
    "        input_shape=IMG_SIZE + (3,),\n",
    "        include_top=False,\n",
    "        weights='imagenet'\n",
    "    )\n",
    "    base_model_efficientnet.trainable = False # Zamrznemo uteži osnovnega modela\n",
    "\n",
    "    # 2. Sestavljanje celotnega modela z Functional API\n",
    "    inputs_efficientnet = tf.keras.Input(shape=IMG_SIZE + (3,))\n",
    "    # Ni potrebe po dodatnem preprocessingu tukaj, ker EfficientNetV2B0 to že vključi\n",
    "    x_efficientnet = base_model_efficientnet(inputs_efficientnet)\n",
    "    x_efficientnet = tf.keras.layers.GlobalAveragePooling2D()(x_efficientnet)\n",
    "    x_efficientnet = tf.keras.layers.Dense(128, activation='relu')(x_efficientnet)\n",
    "    x_efficientnet = tf.keras.layers.Dropout(0.2)(x_efficientnet)\n",
    "    outputs_efficientnet = tf.keras.layers.Dense(NUM_CLASSES, activation='sigmoid')(x_efficientnet)\n",
    "\n",
    "    model_efficientnet = tf.keras.Model(inputs=inputs_efficientnet, outputs=outputs_efficientnet, name=\"EfficientNetV2B0_Classifier\")\n",
    "\n",
    "    # 3. Kompilacija modela\n",
    "    model_efficientnet.compile(optimizer='adam',\n",
    "                               loss='binary_crossentropy',\n",
    "                               metrics=['accuracy'])\n",
    "\n",
    "    model_efficientnet.summary()\n",
    "\n",
    "    # 4. Callbacki za treniranje\n",
    "    callbacks_efficientnet = [\n",
    "        EarlyStopping(monitor='val_loss', patience=5, restore_best_weights=True),\n",
    "        # ModelCheckpoint(filepath='best_efficientnet_model.keras', monitor='val_loss', save_best_only=True)\n",
    "    ]\n",
    "\n",
    "    # 5. Treniranje modela\n",
    "    print(\"\\nZačenjam treniranje EfficientNetV2B0...\")\n",
    "    history_efficientnet = model_efficientnet.fit(\n",
    "        train_dataset,\n",
    "        epochs=NUM_EPOCHS,\n",
    "        validation_data=val_dataset,\n",
    "        callbacks=callbacks_efficientnet\n",
    "    )\n",
    "    print(\"\\nTreniranje EfficientNetV2B0 zaključeno.\")\n",
    "\n",
    "except Exception as e:\n",
    "    print(f\"\\nPrišlo je do napake pri EfficientNetV2B0: {e}\")\n",
    "    history_efficientnet = None # Zagotovimo, da history obstaja, tudi če pride do napake\n"
   ]
  },
  {
   "cell_type": "markdown",
   "id": "3a01e8c8-5462-4711-98b1-efd03e8ca444",
   "metadata": {},
   "source": [
    "### --- OCENJEVANJE MODELOV NA TESTNI MNOŽICI ---"
   ]
  },
  {
   "cell_type": "code",
   "execution_count": 36,
   "id": "77dc40ab-d8e5-41be-8bf2-8a4f0ef6c438",
   "metadata": {},
   "outputs": [
    {
     "name": "stdout",
     "output_type": "stream",
     "text": [
      "\n",
      "--- OCENJEVANJE MODELOV NA TESTNI MNOŽICI ---\n",
      "\n",
      "Ocenjevanje MobileNetV2 na testni množici:\n",
      "\u001b[1m6/6\u001b[0m \u001b[32m━━━━━━━━━━━━━━━━━━━━\u001b[0m\u001b[37m\u001b[0m \u001b[1m0s\u001b[0m 42ms/step - accuracy: 1.0000 - loss: 4.1373e-05\n",
      "MobileNetV2 - Testna izguba: 0.0001, Testna natančnost: 1.0000\n",
      "\n",
      "Ocenjevanje EfficientNetV2B0 na testni množici:\n",
      "\u001b[1m6/6\u001b[0m \u001b[32m━━━━━━━━━━━━━━━━━━━━\u001b[0m\u001b[37m\u001b[0m \u001b[1m0s\u001b[0m 39ms/step - accuracy: 1.0000 - loss: 3.9850e-05\n",
      "EfficientNetV2B0 - Testna izguba: 0.0001, Testna natančnost: 1.0000\n"
     ]
    }
   ],
   "source": [
    "print(\"\\n--- OCENJEVANJE MODELOV NA TESTNI MNOŽICI ---\")\n",
    "\n",
    "if history_mobilenet is not None:\n",
    "    print(\"\\nOcenjevanje MobileNetV2 na testni množici:\")\n",
    "    loss_mobilenet, acc_mobilenet = model_mobilenet.evaluate(test_dataset)\n",
    "    print(f\"MobileNetV2 - Testna izguba: {loss_mobilenet:.4f}, Testna natančnost: {acc_mobilenet:.4f}\")\n",
    "else:\n",
    "    print(\"\\nMobileNetV2 ni bil treniran zaradi napake.\")\n",
    "    loss_mobilenet, acc_mobilenet = None, None\n",
    "\n",
    "\n",
    "if history_efficientnet is not None:\n",
    "    print(\"\\nOcenjevanje EfficientNetV2B0 na testni množici:\")\n",
    "    loss_efficientnet, acc_efficientnet = model_efficientnet.evaluate(test_dataset)\n",
    "    print(f\"EfficientNetV2B0 - Testna izguba: {loss_efficientnet:.4f}, Testna natančnost: {acc_efficientnet:.4f}\")\n",
    "else:\n",
    "    print(\"\\nEfficientNetV2B0 ni bil treniran zaradi napake.\")\n",
    "    loss_efficientnet, acc_efficientnet = None, None"
   ]
  },
  {
   "cell_type": "markdown",
   "id": "02e63682-2c6b-4da7-933a-7b34506f1925",
   "metadata": {},
   "source": [
    "### --- VIZUALIZACIJA REZULTATOV ---"
   ]
  },
  {
   "cell_type": "code",
   "execution_count": 39,
   "id": "dd75b6be-d961-4980-8a49-7d803370f81d",
   "metadata": {},
   "outputs": [
    {
     "name": "stdout",
     "output_type": "stream",
     "text": [
      "\n",
      "--- VIZUALIZACIJA REZULTATOV ---\n"
     ]
    },
    {
     "data": {
      "image/png": "[encoded data removed]",
      "text/plain": [
       "<Figure size 1200x600 with 1 Axes>"
      ]
     },
     "metadata": {},
     "output_type": "display_data"
    },
    {
     "data": {
      "image/png": "[encoded data removed]",
      "text/plain": [
       "<Figure size 1200x600 with 1 Axes>"
      ]
     },
     "metadata": {},
     "output_type": "display_data"
    },
    {
     "name": "stdout",
     "output_type": "stream",
     "text": [
      "\n",
      "--- Povzetek končnih rezultatov na testni množici ---\n",
      "           Model Testna izguba Testna natančnost\n",
      "     MobileNetV2        0.0001            1.0000\n",
      "EfficientNetV2B0        0.0001            1.0000\n"
     ]
    }
   ],
   "source": [
    "print(\"\\n--- VIZUALIZACIJA REZULTATOV ---\")\n",
    "\n",
    "if history_mobilenet is not None and history_efficientnet is not None:\n",
    "    # Graf izgube (Loss)\n",
    "    plt.figure(figsize=(12, 6))\n",
    "    plt.plot(history_mobilenet.history['loss'], label='MobileNetV2 - Učna izguba')\n",
    "    plt.plot(history_mobilenet.history['val_loss'], label='MobileNetV2 - Validacijska izguba')\n",
    "    plt.plot(history_efficientnet.history['loss'], label='EfficientNetV2B0 - Učna izguba')\n",
    "    plt.plot(history_efficientnet.history['val_loss'], label='EfficientNetV2B0 - Validacijska izguba')\n",
    "    plt.title('Primerjava učne in validacijske izgube')\n",
    "    plt.xlabel('Epoha')\n",
    "    plt.ylabel('Izguba')\n",
    "    plt.legend()\n",
    "    plt.grid(True)\n",
    "    plt.show()\n",
    "\n",
    "    # Graf natančnosti (Accuracy)\n",
    "    plt.figure(figsize=(12, 6))\n",
    "    plt.plot(history_mobilenet.history['accuracy'], label='MobileNetV2 - Učna natančnost')\n",
    "    plt.plot(history_mobilenet.history['val_accuracy'], label='MobileNetV2 - Validacijska natančnost')\n",
    "    plt.plot(history_efficientnet.history['accuracy'], label='EfficientNetV2B0 - Učna natančnost')\n",
    "    plt.plot(history_efficientnet.history['val_accuracy'], label='EfficientNetV2B0 - Validacijska natančnost')\n",
    "    plt.title('Primerjava učne in validacijske natančnosti')\n",
    "    plt.xlabel('Epoha')\n",
    "    plt.ylabel('Natančnost')\n",
    "    plt.legend()\n",
    "    plt.grid(True)\n",
    "    plt.show()\n",
    "\n",
    "    # Tabela končnih rezultatov\n",
    "    print(\"\\n--- Povzetek končnih rezultatov na testni množici ---\")\n",
    "    results = pd.DataFrame({\n",
    "        'Model': ['MobileNetV2', 'EfficientNetV2B0'],\n",
    "        'Testna izguba': [f'{loss_mobilenet:.4f}' if loss_mobilenet is not None else 'N/A',\n",
    "                         f'{loss_efficientnet:.4f}' if loss_efficientnet is not None else 'N/A'],\n",
    "        'Testna natančnost': [f'{acc_mobilenet:.4f}' if acc_mobilenet is not None else 'N/A',\n",
    "                             f'{acc_efficientnet:.4f}' if acc_efficientnet is not None else 'N/A']\n",
    "    })\n",
    "    print(results.to_string(index=False))\n",
    "\n",
    "else:\n",
    "    print(\"\\nVizualizacija in povzetek nista mogoča, ker vsaj en model ni bil uspešno treniran.\")\n"
   ]
  },
  {
   "cell_type": "code",
   "execution_count": null,
   "id": "71c06f43-86c9-4901-91a1-01d4e85469c7",
   "metadata": {},
   "outputs": [],
   "source": []
  }
 ],
 "metadata": {
  "kernelspec": {
   "display_name": "Python 3 (ipykernel)",
   "language": "python",
   "name": "python3"
  },
  "language_info": {
   "codemirror_mode": {
    "name": "ipython",
    "version": 3
   },
   "file_extension": ".py",
   "mimetype": "text/x-python",
   "name": "python",
   "nbconvert_exporter": "python",
   "pygments_lexer": "ipython3",
   "version": "3.10.12"
  }
 },
 "nbformat": 4,
 "nbformat_minor": 5
}
