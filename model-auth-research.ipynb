{
 "cells": [
  {
   "cell_type": "markdown",
   "id": "b798323c-edd9-4310-83d5-79bd97265408",
   "metadata": {},
   "source": [
    "## Uvoz videa za extrakcijo slik"
   ]
  },
  {
   "cell_type": "code",
   "execution_count": 6,
   "id": "69f02c0d-dfd6-4c4b-9e1c-b45bb4767fa2",
   "metadata": {},
   "outputs": [],
   "source": [
    "import cv2\n",
    "import os\n",
    "\n",
    "video_path = 'data/video/selfiVideo.mp4'\n",
    "output_folder = 'data/frames/oseba_1/' # Mapa za shranjevanje frejmov\n",
    "os.makedirs(output_folder, exist_ok=True)"
   ]
  },
  {
   "cell_type": "markdown",
   "id": "f1db6c5f-6ed0-49bf-8595-a8997ac01aaf",
   "metadata": {},
   "source": [
    "## Pretvorba videa v slike"
   ]
  },
  {
   "cell_type": "code",
   "execution_count": 7,
   "id": "de71561b-7946-4806-96b8-4f8d1d75bb3f",
   "metadata": {},
   "outputs": [
    {
     "name": "stdout",
     "output_type": "stream",
     "text": [
      "Shranjujem frejm data/frames/oseba_1/frame_0000.jpg\n",
      "Shranjujem frejm data/frames/oseba_1/frame_0005.jpg\n",
      "Shranjujem frejm data/frames/oseba_1/frame_0010.jpg\n",
      "Shranjujem frejm data/frames/oseba_1/frame_0015.jpg\n",
      "Shranjujem frejm data/frames/oseba_1/frame_0020.jpg\n",
      "Shranjujem frejm data/frames/oseba_1/frame_0025.jpg\n",
      "Shranjujem frejm data/frames/oseba_1/frame_0030.jpg\n",
      "Shranjujem frejm data/frames/oseba_1/frame_0035.jpg\n",
      "Shranjujem frejm data/frames/oseba_1/frame_0040.jpg\n",
      "Shranjujem frejm data/frames/oseba_1/frame_0045.jpg\n",
      "Shranjujem frejm data/frames/oseba_1/frame_0050.jpg\n",
      "Shranjujem frejm data/frames/oseba_1/frame_0055.jpg\n",
      "Shranjujem frejm data/frames/oseba_1/frame_0060.jpg\n",
      "Shranjujem frejm data/frames/oseba_1/frame_0065.jpg\n",
      "Shranjujem frejm data/frames/oseba_1/frame_0070.jpg\n",
      "Shranjujem frejm data/frames/oseba_1/frame_0075.jpg\n",
      "Shranjujem frejm data/frames/oseba_1/frame_0080.jpg\n",
      "Shranjujem frejm data/frames/oseba_1/frame_0085.jpg\n",
      "Shranjujem frejm data/frames/oseba_1/frame_0090.jpg\n",
      "Shranjujem frejm data/frames/oseba_1/frame_0095.jpg\n",
      "Shranjujem frejm data/frames/oseba_1/frame_0100.jpg\n",
      "Shranjujem frejm data/frames/oseba_1/frame_0105.jpg\n",
      "Shranjujem frejm data/frames/oseba_1/frame_0110.jpg\n",
      "Shranjujem frejm data/frames/oseba_1/frame_0115.jpg\n",
      "Shranjujem frejm data/frames/oseba_1/frame_0120.jpg\n",
      "Shranjujem frejm data/frames/oseba_1/frame_0125.jpg\n",
      "Shranjujem frejm data/frames/oseba_1/frame_0130.jpg\n",
      "Shranjujem frejm data/frames/oseba_1/frame_0135.jpg\n",
      "Shranjujem frejm data/frames/oseba_1/frame_0140.jpg\n",
      "Shranjujem frejm data/frames/oseba_1/frame_0145.jpg\n",
      "Shranjujem frejm data/frames/oseba_1/frame_0150.jpg\n",
      "Shranjujem frejm data/frames/oseba_1/frame_0155.jpg\n",
      "Shranjujem frejm data/frames/oseba_1/frame_0160.jpg\n",
      "Shranjujem frejm data/frames/oseba_1/frame_0165.jpg\n",
      "Shranjujem frejm data/frames/oseba_1/frame_0170.jpg\n",
      "Shranjujem frejm data/frames/oseba_1/frame_0175.jpg\n",
      "Shranjujem frejm data/frames/oseba_1/frame_0180.jpg\n",
      "Shranjujem frejm data/frames/oseba_1/frame_0185.jpg\n",
      "Shranjujem frejm data/frames/oseba_1/frame_0190.jpg\n",
      "Shranjujem frejm data/frames/oseba_1/frame_0195.jpg\n",
      "Shranjujem frejm data/frames/oseba_1/frame_0200.jpg\n",
      "Shranjujem frejm data/frames/oseba_1/frame_0205.jpg\n",
      "Shranjujem frejm data/frames/oseba_1/frame_0210.jpg\n",
      "Shranjujem frejm data/frames/oseba_1/frame_0215.jpg\n",
      "Shranjujem frejm data/frames/oseba_1/frame_0220.jpg\n",
      "Shranjujem frejm data/frames/oseba_1/frame_0225.jpg\n",
      "Shranjujem frejm data/frames/oseba_1/frame_0230.jpg\n",
      "Shranjujem frejm data/frames/oseba_1/frame_0235.jpg\n",
      "Shranjujem frejm data/frames/oseba_1/frame_0240.jpg\n",
      "Shranjujem frejm data/frames/oseba_1/frame_0245.jpg\n",
      "Shranjujem frejm data/frames/oseba_1/frame_0250.jpg\n",
      "Shranjujem frejm data/frames/oseba_1/frame_0255.jpg\n",
      "Shranjujem frejm data/frames/oseba_1/frame_0260.jpg\n",
      "Shranjujem frejm data/frames/oseba_1/frame_0265.jpg\n",
      "Shranjujem frejm data/frames/oseba_1/frame_0270.jpg\n",
      "Shranjujem frejm data/frames/oseba_1/frame_0275.jpg\n",
      "Shranjujem frejm data/frames/oseba_1/frame_0280.jpg\n",
      "Shranjujem frejm data/frames/oseba_1/frame_0285.jpg\n",
      "Shranjujem frejm data/frames/oseba_1/frame_0290.jpg\n",
      "Shranjujem frejm data/frames/oseba_1/frame_0295.jpg\n",
      "Shranjujem frejm data/frames/oseba_1/frame_0300.jpg\n",
      "Shranjujem frejm data/frames/oseba_1/frame_0305.jpg\n",
      "Shranjujem frejm data/frames/oseba_1/frame_0310.jpg\n",
      "Shranjujem frejm data/frames/oseba_1/frame_0315.jpg\n",
      "Shranjujem frejm data/frames/oseba_1/frame_0320.jpg\n",
      "Shranjujem frejm data/frames/oseba_1/frame_0325.jpg\n",
      "Shranjujem frejm data/frames/oseba_1/frame_0330.jpg\n",
      "Shranjujem frejm data/frames/oseba_1/frame_0335.jpg\n",
      "Shranjujem frejm data/frames/oseba_1/frame_0340.jpg\n",
      "Shranjujem frejm data/frames/oseba_1/frame_0345.jpg\n",
      "Shranjujem frejm data/frames/oseba_1/frame_0350.jpg\n",
      "Shranjujem frejm data/frames/oseba_1/frame_0355.jpg\n",
      "Shranjujem frejm data/frames/oseba_1/frame_0360.jpg\n",
      "Shranjujem frejm data/frames/oseba_1/frame_0365.jpg\n",
      "Shranjujem frejm data/frames/oseba_1/frame_0370.jpg\n",
      "Shranjujem frejm data/frames/oseba_1/frame_0375.jpg\n",
      "Končano ekstrakcijo 377 frejmov.\n"
     ]
    }
   ],
   "source": [
    "vidcap = cv2.VideoCapture(video_path)\n",
    "success,image = vidcap.read()\n",
    "count = 0\n",
    "while success:\n",
    "  # Shrani vsak N-ti frejm, da ne bo preveč podobnih slik\n",
    "  if count % 5 == 0: # Shrani vsak 5. frejm\n",
    "      frame_filename = os.path.join(output_folder, f\"frame_{count:04d}.jpg\")\n",
    "      cv2.imwrite(frame_filename, image)     # Shrani frejm kot JPEG\n",
    "      print(f\"Shranjujem frejm {frame_filename}\")\n",
    "  success,image = vidcap.read()\n",
    "  count += 1\n",
    "print(f\"Končano ekstrakcijo {count} frejmov.\")"
   ]
  },
  {
   "cell_type": "code",
   "execution_count": null,
   "id": "2e5c857d-c071-4655-8ec0-398d3a2a5b9a",
   "metadata": {},
   "outputs": [],
   "source": []
  }
 ],
 "metadata": {
  "kernelspec": {
   "display_name": "Python 3 (ipykernel)",
   "language": "python",
   "name": "python3"
  },
  "language_info": {
   "codemirror_mode": {
    "name": "ipython",
    "version": 3
   },
   "file_extension": ".py",
   "mimetype": "text/x-python",
   "name": "python",
   "nbconvert_exporter": "python",
   "pygments_lexer": "ipython3",
   "version": "3.10.12"
  }
 },
 "nbformat": 4,
 "nbformat_minor": 5
}
